{
 "cells": [
  {
   "cell_type": "markdown",
   "id": "8acbaf65",
   "metadata": {},
   "source": [
    "# Predicting With vertual premir league Data "
   ]
  },
  {
   "cell_type": "markdown",
   "id": "9618982e",
   "metadata": {},
   "source": [
    "#### Importing sklearn maching learning algorithems and other main libaries"
   ]
  },
  {
   "cell_type": "code",
   "execution_count": 1,
   "id": "1d8b8631",
   "metadata": {},
   "outputs": [],
   "source": [
    "from matplotlib import pyplot as plt\n",
    "import numpy as np\n",
    "import pandas as pd\n",
    "import seaborn as sb\n",
    "from sklearn.model_selection import train_test_split, cross_validate\n",
    "from sklearn.metrics import precision_score, recall_score, accuracy_score"
   ]
  },
  {
   "cell_type": "markdown",
   "id": "690c9ab7",
   "metadata": {},
   "source": [
    "#### Accesing data "
   ]
  },
  {
   "cell_type": "code",
   "execution_count": 2,
   "id": "b7f26990",
   "metadata": {},
   "outputs": [
    {
     "name": "stdout",
     "output_type": "stream",
     "text": [
      "(280, 4)\n"
     ]
    },
    {
     "data": {
      "text/html": [
       "<div>\n",
       "<style scoped>\n",
       "    .dataframe tbody tr th:only-of-type {\n",
       "        vertical-align: middle;\n",
       "    }\n",
       "\n",
       "    .dataframe tbody tr th {\n",
       "        vertical-align: top;\n",
       "    }\n",
       "\n",
       "    .dataframe thead th {\n",
       "        text-align: right;\n",
       "    }\n",
       "</style>\n",
       "<table border=\"1\" class=\"dataframe\">\n",
       "  <thead>\n",
       "    <tr style=\"text-align: right;\">\n",
       "      <th></th>\n",
       "      <th>events</th>\n",
       "      <th>weeks</th>\n",
       "      <th>score</th>\n",
       "      <th>teams_index</th>\n",
       "    </tr>\n",
       "  </thead>\n",
       "  <tbody>\n",
       "    <tr>\n",
       "      <th>0</th>\n",
       "      <td>TOT-CRY</td>\n",
       "      <td>1</td>\n",
       "      <td>Draw</td>\n",
       "      <td>51-55</td>\n",
       "    </tr>\n",
       "    <tr>\n",
       "      <th>1</th>\n",
       "      <td>WHU-LIV</td>\n",
       "      <td>1</td>\n",
       "      <td>Away</td>\n",
       "      <td>58-45</td>\n",
       "    </tr>\n",
       "    <tr>\n",
       "      <th>2</th>\n",
       "      <td>WAT-NOR</td>\n",
       "      <td>1</td>\n",
       "      <td>Away</td>\n",
       "      <td>70-66</td>\n",
       "    </tr>\n",
       "    <tr>\n",
       "      <th>3</th>\n",
       "      <td>ARS-ASV</td>\n",
       "      <td>1</td>\n",
       "      <td>Draw</td>\n",
       "      <td>48-60</td>\n",
       "    </tr>\n",
       "    <tr>\n",
       "      <th>4</th>\n",
       "      <td>SOU-MNC</td>\n",
       "      <td>1</td>\n",
       "      <td>Away</td>\n",
       "      <td>52-46</td>\n",
       "    </tr>\n",
       "  </tbody>\n",
       "</table>\n",
       "</div>"
      ],
      "text/plain": [
       "    events  weeks score teams_index\n",
       "0  TOT-CRY      1  Draw       51-55\n",
       "1  WHU-LIV      1  Away       58-45\n",
       "2  WAT-NOR      1  Away       70-66\n",
       "3  ARS-ASV      1  Draw       48-60\n",
       "4  SOU-MNC      1  Away       52-46"
      ]
     },
     "execution_count": 2,
     "metadata": {},
     "output_type": "execute_result"
    }
   ],
   "source": [
    "df = pd.read_csv('./Prediction_train&test_Data/premier_leage_data.csv')\n",
    "print(df.shape)\n",
    "df.head(5)"
   ]
  },
  {
   "cell_type": "code",
   "execution_count": 3,
   "id": "27b2af10",
   "metadata": {},
   "outputs": [
    {
     "name": "stdout",
     "output_type": "stream",
     "text": [
      "<class 'pandas.core.frame.DataFrame'>\n",
      "RangeIndex: 280 entries, 0 to 279\n",
      "Data columns (total 4 columns):\n",
      " #   Column       Non-Null Count  Dtype \n",
      "---  ------       --------------  ----- \n",
      " 0   events       280 non-null    object\n",
      " 1   weeks        280 non-null    int64 \n",
      " 2   score        280 non-null    object\n",
      " 3   teams_index  280 non-null    object\n",
      "dtypes: int64(1), object(3)\n",
      "memory usage: 8.9+ KB\n"
     ]
    }
   ],
   "source": [
    "df.info()"
   ]
  },
  {
   "cell_type": "code",
   "execution_count": 4,
   "id": "b46e1ae8",
   "metadata": {},
   "outputs": [],
   "source": [
    "new_events = []\n",
    "new_score = []\n",
    "new_team_index = []\n",
    "new_week_index = []\n",
    "\n",
    "def set_weak_index(x):\n",
    "    new_week_index.append(x)\n",
    "    new_week_index.append(x)\n",
    "\n",
    "def get_team_index(x):\n",
    "    data = np.float64(x.lower().split('-'))\n",
    "    new_team_index.append(data[0])\n",
    "    new_team_index.append(data[-1])\n",
    "\n",
    "def split_events(x):\n",
    "    data = x.lower().split('-')\n",
    "    new_events.append(data[0])\n",
    "    new_events.append(data[-1])\n",
    "    \n",
    "def get_score(x):\n",
    "    if x == 'Home':\n",
    "        new_score.append('won')\n",
    "        new_score.append('loss')\n",
    "    elif x == 'Away':\n",
    "        new_score.append('loss')\n",
    "        new_score.append('won')\n",
    "    else:\n",
    "        new_score.append('Draw')\n",
    "        new_score.append('Draw')"
   ]
  },
  {
   "cell_type": "code",
   "execution_count": 5,
   "id": "2acaa20a",
   "metadata": {},
   "outputs": [],
   "source": [
    "_ = df.events.apply(split_events)\n",
    "_ = df.score.apply(get_score)\n",
    "_ = df.teams_index.apply(get_team_index)\n",
    "_ = df.weeks.apply(set_weak_index)"
   ]
  },
  {
   "cell_type": "code",
   "execution_count": 6,
   "id": "4682e8ef",
   "metadata": {},
   "outputs": [],
   "source": [
    "df2 = pd.DataFrame({'events': new_events, 'wins': new_score, 'teams_index': new_team_index, 'weeaks': new_week_index})"
   ]
  },
  {
   "cell_type": "code",
   "execution_count": 7,
   "id": "ec031b77",
   "metadata": {},
   "outputs": [
    {
     "data": {
      "text/html": [
       "<div>\n",
       "<style scoped>\n",
       "    .dataframe tbody tr th:only-of-type {\n",
       "        vertical-align: middle;\n",
       "    }\n",
       "\n",
       "    .dataframe tbody tr th {\n",
       "        vertical-align: top;\n",
       "    }\n",
       "\n",
       "    .dataframe thead th {\n",
       "        text-align: right;\n",
       "    }\n",
       "</style>\n",
       "<table border=\"1\" class=\"dataframe\">\n",
       "  <thead>\n",
       "    <tr style=\"text-align: right;\">\n",
       "      <th></th>\n",
       "      <th>events</th>\n",
       "      <th>wins</th>\n",
       "      <th>teams_index</th>\n",
       "      <th>weeaks</th>\n",
       "    </tr>\n",
       "  </thead>\n",
       "  <tbody>\n",
       "    <tr>\n",
       "      <th>0</th>\n",
       "      <td>tot</td>\n",
       "      <td>Draw</td>\n",
       "      <td>51.0</td>\n",
       "      <td>1</td>\n",
       "    </tr>\n",
       "    <tr>\n",
       "      <th>1</th>\n",
       "      <td>cry</td>\n",
       "      <td>Draw</td>\n",
       "      <td>55.0</td>\n",
       "      <td>1</td>\n",
       "    </tr>\n",
       "    <tr>\n",
       "      <th>2</th>\n",
       "      <td>whu</td>\n",
       "      <td>loss</td>\n",
       "      <td>58.0</td>\n",
       "      <td>1</td>\n",
       "    </tr>\n",
       "    <tr>\n",
       "      <th>3</th>\n",
       "      <td>liv</td>\n",
       "      <td>won</td>\n",
       "      <td>45.0</td>\n",
       "      <td>1</td>\n",
       "    </tr>\n",
       "    <tr>\n",
       "      <th>4</th>\n",
       "      <td>wat</td>\n",
       "      <td>loss</td>\n",
       "      <td>70.0</td>\n",
       "      <td>1</td>\n",
       "    </tr>\n",
       "    <tr>\n",
       "      <th>5</th>\n",
       "      <td>nor</td>\n",
       "      <td>won</td>\n",
       "      <td>66.0</td>\n",
       "      <td>1</td>\n",
       "    </tr>\n",
       "    <tr>\n",
       "      <th>6</th>\n",
       "      <td>ars</td>\n",
       "      <td>Draw</td>\n",
       "      <td>48.0</td>\n",
       "      <td>1</td>\n",
       "    </tr>\n",
       "    <tr>\n",
       "      <th>7</th>\n",
       "      <td>asv</td>\n",
       "      <td>Draw</td>\n",
       "      <td>60.0</td>\n",
       "      <td>1</td>\n",
       "    </tr>\n",
       "    <tr>\n",
       "      <th>8</th>\n",
       "      <td>sou</td>\n",
       "      <td>loss</td>\n",
       "      <td>52.0</td>\n",
       "      <td>1</td>\n",
       "    </tr>\n",
       "    <tr>\n",
       "      <th>9</th>\n",
       "      <td>mnc</td>\n",
       "      <td>won</td>\n",
       "      <td>46.0</td>\n",
       "      <td>1</td>\n",
       "    </tr>\n",
       "  </tbody>\n",
       "</table>\n",
       "</div>"
      ],
      "text/plain": [
       "  events  wins  teams_index  weeaks\n",
       "0    tot  Draw         51.0       1\n",
       "1    cry  Draw         55.0       1\n",
       "2    whu  loss         58.0       1\n",
       "3    liv   won         45.0       1\n",
       "4    wat  loss         70.0       1\n",
       "5    nor   won         66.0       1\n",
       "6    ars  Draw         48.0       1\n",
       "7    asv  Draw         60.0       1\n",
       "8    sou  loss         52.0       1\n",
       "9    mnc   won         46.0       1"
      ]
     },
     "execution_count": 7,
     "metadata": {},
     "output_type": "execute_result"
    }
   ],
   "source": [
    "df2.head(10)"
   ]
  },
  {
   "cell_type": "markdown",
   "id": "3d116b59",
   "metadata": {},
   "source": [
    "#### Spliting Data for training and testing "
   ]
  },
  {
   "cell_type": "code",
   "execution_count": 8,
   "id": "cac3448e",
   "metadata": {},
   "outputs": [],
   "source": [
    "x = df2[['teams_index', 'weeaks']] # df2.teams_index.values.reshape(-1, 1) # df2.teams_index.view(-1, 1)\n",
    "y = df2.wins\n",
    "x_train, x_test, y_train, y_test = train_test_split(x, y, test_size=0.2)\n",
    "x_train, x_val, y_train, y_val = train_test_split(x_train, y_train, test_size=0.2)"
   ]
  },
  {
   "cell_type": "code",
   "execution_count": null,
   "id": "4d6bdee7",
   "metadata": {},
   "outputs": [],
   "source": []
  },
  {
   "cell_type": "markdown",
   "id": "d611cd0d",
   "metadata": {},
   "source": [
    "#### Importting all ML algorithems for trainning and testing model"
   ]
  },
  {
   "cell_type": "code",
   "execution_count": 9,
   "id": "6d141647",
   "metadata": {},
   "outputs": [],
   "source": [
    "from sklearn.tree import DecisionTreeClassifier\n",
    "from sklearn.naive_bayes import GaussianNB\n",
    "from sklearn.svm import SVC\n",
    "# from sklearn.neighbors import KNeighborsClassifier\n",
    "from sklearn.ensemble import RandomForestClassifier\n",
    "from sklearn.ensemble import AdaBoostClassifier"
   ]
  },
  {
   "cell_type": "markdown",
   "id": "5dfddf99",
   "metadata": {},
   "source": [
    "#### Initalizing all ML models with out it's paramiters"
   ]
  },
  {
   "cell_type": "code",
   "execution_count": 10,
   "id": "040e1be1",
   "metadata": {},
   "outputs": [],
   "source": [
    "dtc = DecisionTreeClassifier()\n",
    "gnb = GaussianNB()\n",
    "svc = SVC()\n",
    "rfc = RandomForestClassifier()\n",
    "abc = AdaBoostClassifier(base_estimator=DecisionTreeClassifier())"
   ]
  },
  {
   "cell_type": "markdown",
   "id": "e5f8e693",
   "metadata": {},
   "source": [
    "#### Fitting model "
   ]
  },
  {
   "cell_type": "code",
   "execution_count": 11,
   "id": "8b239324",
   "metadata": {},
   "outputs": [
    {
     "data": {
      "text/plain": [
       "AdaBoostClassifier(base_estimator=DecisionTreeClassifier())"
      ]
     },
     "execution_count": 11,
     "metadata": {},
     "output_type": "execute_result"
    }
   ],
   "source": [
    "dtc.fit(x_train, y_train)\n",
    "gnb.fit(x_train, y_train)\n",
    "svc.fit(x_train, y_train)\n",
    "rfc.fit(x_train, y_train)\n",
    "abc.fit(x_train, y_train)\n",
    "# df2.groupby('teams_index').count()"
   ]
  },
  {
   "cell_type": "markdown",
   "id": "07bcd19b",
   "metadata": {},
   "source": [
    "#### Predicting trainning error"
   ]
  },
  {
   "cell_type": "code",
   "execution_count": 12,
   "id": "46fd4553",
   "metadata": {},
   "outputs": [],
   "source": [
    "dtc_train_pred = dtc.predict(x_train)\n",
    "gnb_train_pred = gnb.predict(x_train)\n",
    "svc_train_pred = svc.predict(x_train)\n",
    "rfc_train_pred = rfc.predict(x_train)\n",
    "abc_train_pred = abc.predict(x_train)"
   ]
  },
  {
   "cell_type": "markdown",
   "id": "6e0a4187",
   "metadata": {},
   "source": [
    "#### Predicting testing error"
   ]
  },
  {
   "cell_type": "code",
   "execution_count": 13,
   "id": "815ccd99",
   "metadata": {},
   "outputs": [],
   "source": [
    "dtc_val_pred = dtc.predict(x_val)\n",
    "gnb_val_pred = gnb.predict(x_val)\n",
    "svc_val_pred = svc.predict(x_val)\n",
    "rfc_val_pred = rfc.predict(x_val)\n",
    "abc_val_pred = abc.predict(x_val)"
   ]
  },
  {
   "cell_type": "markdown",
   "id": "4e1d1f8a",
   "metadata": {},
   "source": [
    "#### Caluating The Accuraccy of train prediction"
   ]
  },
  {
   "cell_type": "code",
   "execution_count": 14,
   "id": "c463baf4",
   "metadata": {},
   "outputs": [],
   "source": [
    "dtc_train_acc = accuracy_score(y_train, dtc_train_pred)\n",
    "gnb_train_acc = accuracy_score(y_train, gnb_train_pred)\n",
    "svc_train_acc = accuracy_score(y_train, svc_train_pred)\n",
    "rfc_train_acc = accuracy_score(y_train, rfc_train_pred)\n",
    "abc_train_acc = accuracy_score(y_train, abc_train_pred)"
   ]
  },
  {
   "cell_type": "code",
   "execution_count": 15,
   "id": "2a20616f",
   "metadata": {},
   "outputs": [
    {
     "name": "stdout",
     "output_type": "stream",
     "text": [
      "Accuracy for training data of DecisionTreeClassifier is .....1.0\n",
      "Accuracy for training data of GaussianNB is .....0.41620111731843573\n",
      "Accuracy for training data of Support Vectore Maching Classifer is .....0.41620111731843573\n",
      "Accuracy for training data of RandomForestClassifier is .....1.0\n",
      "Accuracy for training data of AdaBoostClassifier is .....1.0\n"
     ]
    }
   ],
   "source": [
    "print(f'Accuracy for training data of DecisionTreeClassifier is .....{dtc_train_acc}')\n",
    "print(f'Accuracy for training data of GaussianNB is .....{gnb_train_acc}')\n",
    "print(f'Accuracy for training data of Support Vectore Maching Classifer is .....{svc_train_acc}')\n",
    "print(f'Accuracy for training data of RandomForestClassifier is .....{rfc_train_acc}')\n",
    "print(f'Accuracy for training data of AdaBoostClassifier is .....{abc_train_acc}')"
   ]
  },
  {
   "cell_type": "markdown",
   "id": "2dcf6027",
   "metadata": {},
   "source": [
    "#### Caluating The Accuraccy of test prediction"
   ]
  },
  {
   "cell_type": "code",
   "execution_count": 16,
   "id": "4b982a49",
   "metadata": {},
   "outputs": [],
   "source": [
    "dtc_val_acc = accuracy_score(y_val, dtc_val_pred)\n",
    "gnb_val_acc = accuracy_score(y_val, gnb_val_pred)\n",
    "svc_val_acc = accuracy_score(y_val, svc_val_pred)\n",
    "rfc_val_acc = accuracy_score(y_val, rfc_val_pred)\n",
    "abc_val_acc = accuracy_score(y_val, abc_val_pred)"
   ]
  },
  {
   "cell_type": "code",
   "execution_count": 17,
   "id": "a7082860",
   "metadata": {},
   "outputs": [
    {
     "name": "stdout",
     "output_type": "stream",
     "text": [
      "Accuracy for testing data of DecisionTreeClassifier is .....0.4111111111111111\n",
      "Accuracy for testing data of GaussianNB is .....0.28888888888888886\n",
      "Accuracy for testing data of Support Vectore Maching Classifer is .....0.28888888888888886\n",
      "Accuracy for testing data of RandomForestClassifier is .....0.35555555555555557\n",
      "Accuracy for testing data of AdaBoostClassifier is .....0.4111111111111111\n"
     ]
    }
   ],
   "source": [
    "print(f'Accuracy for testing data of DecisionTreeClassifier is .....{dtc_val_acc}')\n",
    "print(f'Accuracy for testing data of GaussianNB is .....{gnb_val_acc}')\n",
    "print(f'Accuracy for testing data of Support Vectore Maching Classifer is .....{svc_val_acc}')\n",
    "print(f'Accuracy for testing data of RandomForestClassifier is .....{rfc_val_acc}')\n",
    "print(f'Accuracy for testing data of AdaBoostClassifier is .....{abc_val_acc}')"
   ]
  },
  {
   "cell_type": "markdown",
   "id": "edb39f74",
   "metadata": {},
   "source": [
    "#### Visuzlaisation for the best posible model for overfiting and biais"
   ]
  },
  {
   "cell_type": "code",
   "execution_count": 18,
   "id": "e40c56f3",
   "metadata": {},
   "outputs": [
    {
     "data": {
      "image/png": "[encoded data removed]",
      "text/plain": [
       "<Figure size 720x360 with 1 Axes>"
      ]
     },
     "metadata": {
      "needs_background": "light"
     },
     "output_type": "display_data"
    }
   ],
   "source": [
    "figure = plt.figure(figsize = [10, 5])\n",
    "train_x = [dtc_train_acc, gnb_train_acc, svc_train_acc, rfc_train_acc, abc_train_acc]\n",
    "test_x = [dtc_val_acc, gnb_val_acc, svc_val_acc, rfc_val_acc, abc_val_acc]\n",
    "y_axis = np.arange(len(train_x))\n",
    "# sb.pointplot(x = train_x, y=y_axis, ci=None, linestyles='-')\n",
    "plt.plot(train_x)\n",
    "plt.plot(test_x)\n",
    "plt.legend(['train', 'test']);"
   ]
  },
  {
   "cell_type": "markdown",
   "id": "e942deff",
   "metadata": {},
   "source": [
    "### Tunning models"
   ]
  },
  {
   "cell_type": "markdown",
   "id": "0d72b0bb",
   "metadata": {},
   "source": [
    "#### Tunning decition tree classifier for trainning and testing errors"
   ]
  },
  {
   "cell_type": "code",
   "execution_count": 19,
   "id": "fb9eccbd",
   "metadata": {},
   "outputs": [],
   "source": [
    "dtc_one = DecisionTreeClassifier(max_depth=10, min_samples_split=20)\n",
    "dtc_two = DecisionTreeClassifier(max_depth=10, min_samples_split=20)\n",
    "dtc_three = DecisionTreeClassifier(max_depth=10, min_samples_split=20)"
   ]
  },
  {
   "cell_type": "code",
   "execution_count": 20,
   "id": "f49ed7ab",
   "metadata": {},
   "outputs": [],
   "source": [
    "def tune_dtc_func(x_tr, y_tr, x_ta, y_ta, max_depth, min_samples_split):\n",
    "    \n",
    "    dtc_inf = DecisionTreeClassifier(max_depth=max_depth, min_samples_split=min_samples_split)\n",
    "    dtc_inf.fit(x_tr, y_tr)\n",
    "    \n",
    "    y_pred_tr = dtc_inf.predict(x_tr)\n",
    "    y_pred_ta = dtc_inf.predict(x_ta)\n",
    "    \n",
    "    y_acc_tr = accuracy_score(y_tr, y_pred_tr)\n",
    "    y_acc_ta = accuracy_score(y_ta, y_pred_ta)\n",
    "    \n",
    "    return [y_acc_tr, y_acc_ta]"
   ]
  },
  {
   "cell_type": "code",
   "execution_count": 21,
   "id": "ad400f8b",
   "metadata": {},
   "outputs": [],
   "source": [
    "dtc_tunde = [\n",
    "                [10, 20],\n",
    "                [5, 10],\n",
    "                [5, 15]\n",
    "            ]"
   ]
  },
  {
   "cell_type": "code",
   "execution_count": 22,
   "id": "0271ef4a",
   "metadata": {},
   "outputs": [
    {
     "name": "stdout",
     "output_type": "stream",
     "text": [
      "[[0.6089385474860335, 0.3888888888888889], [0.5642458100558659, 0.35555555555555557], [0.5642458100558659, 0.35555555555555557]]\n"
     ]
    }
   ],
   "source": [
    "dct_tuned_resultes = []\n",
    "\n",
    "for x in dtc_tunde:\n",
    "    dct_resulte = tune_dtc_func(x_train, y_train, x_val, y_val, x[0], x[1])\n",
    "    dct_tuned_resultes.append(dct_resulte)\n",
    "\n",
    "    \n",
    "print(dct_tuned_resultes)"
   ]
  },
  {
   "cell_type": "markdown",
   "id": "3defe2c7",
   "metadata": {},
   "source": [
    "#### Tunning support vector clasifierie for trainning and testing errors"
   ]
  },
  {
   "cell_type": "code",
   "execution_count": 23,
   "id": "061425db",
   "metadata": {},
   "outputs": [],
   "source": [
    "def tunned_func(x_tr, y_tr, x_ta, y_ta, kernel='rbf', degree=1, C=1.0, gamma=1.0):\n",
    "    \n",
    "    if kernel == 'poly':\n",
    "        svc_inf = SVC(kernel=kernel, degree=degree)#, C=C, gamma=gamma)\n",
    "        \n",
    "    elif kernel == 'ref':       \n",
    "         svc_inf = SVC(kernel=kernel, gamma=gamma)\n",
    "    else:\n",
    "        svc_inf = SVC(C=C, gamma=gamma)\n",
    "        \n",
    "    svc_inf.fit(x_tr, y_tr)\n",
    "    \n",
    "    y_pred_tr = svc_inf.predict(x_tr)\n",
    "    y_pred_ta = svc_inf.predict(x_ta)\n",
    "    \n",
    "    y_acc_tr = accuracy_score(y_tr, y_pred_tr)\n",
    "    y_acc_ta = accuracy_score(y_ta, y_pred_ta)\n",
    "    \n",
    "    return [y_acc_tr, y_acc_ta]"
   ]
  },
  {
   "cell_type": "code",
   "execution_count": 24,
   "id": "0c00b809",
   "metadata": {},
   "outputs": [],
   "source": [
    "svc_tuned = [\n",
    "                ['poly', 2],# 1, 1], \n",
    "                ['poly', 3],# 1, 1],\n",
    "                ['poly', 4, 1, 1],\n",
    "                ['rbf', 1, 0.3, 1],\n",
    "                ['rbf', 1, 1, 1],\n",
    "                ['linear', 1, 1e-07, 1e9],\n",
    "            ]"
   ]
  },
  {
   "cell_type": "code",
   "execution_count": 25,
   "id": "eed5e462",
   "metadata": {},
   "outputs": [
    {
     "name": "stdout",
     "output_type": "stream",
     "text": [
      "[[0.40782122905027934, 0.3], [0.40782122905027934, 0.3], [0.40502793296089384, 0.3], [0.9413407821229051, 0.32222222222222224], [0.9413407821229051, 0.32222222222222224], [0.9413407821229051, 0.32222222222222224]]\n"
     ]
    }
   ],
   "source": [
    "svc_tuned_resultes = []\n",
    "for item in svc_tuned:\n",
    "    svc_resulte = tunned_func(x_train, y_train, x_val, y_val, \n",
    "                              kernel=item[0], degree=item[1])#, C=item[2], gamma=item[3])\n",
    "    svc_tuned_resultes.append(svc_resulte)\n",
    "        \n",
    "print(svc_tuned_resultes)"
   ]
  },
  {
   "cell_type": "markdown",
   "id": "24aebe51",
   "metadata": {},
   "source": [
    "#### random forest clasifierie for trainning and testing errors"
   ]
  },
  {
   "cell_type": "code",
   "execution_count": 26,
   "id": "95f116c5",
   "metadata": {},
   "outputs": [],
   "source": [
    "rfc = RandomForestClassifier()"
   ]
  },
  {
   "cell_type": "code",
   "execution_count": null,
   "id": "e5aab7cb",
   "metadata": {},
   "outputs": [],
   "source": [
    "def tune_rfc_func(x_tr, y_tr, x_ta, y_ta, max_depth, min_samples_split, n_estimators):\n",
    "    \n",
    "    rfc_inf = RandomForestClassifier(max_depth=max_depth, min_samples_split=min_samples_split, n_estimators=n_estimators)\n",
    "    rfc_inf.fit(x_tr, y_tr)\n",
    "    \n",
    "    y_pred_tr = rfc_inf.predict(x_tr)\n",
    "    y_pred_ta = rfc_inf.predict(x_ta)\n",
    "    \n",
    "    y_acc_tr = accuracy_score(y_tr, y_pred_tr)\n",
    "    y_acc_ta = accuracy_score(y_ta, y_pred_ta)\n",
    "    \n",
    "    return [y_acc_tr, y_acc_ta]"
   ]
  },
  {
   "cell_type": "code",
   "execution_count": null,
   "id": "8724dc0f",
   "metadata": {},
   "outputs": [],
   "source": [
    "rfc_tunde = [\n",
    "                [10, 20, 20],\n",
    "                [5, 10, 10],\n",
    "                [5, 15, 5]\n",
    "            ]"
   ]
  },
  {
   "cell_type": "code",
   "execution_count": null,
   "id": "71e36797",
   "metadata": {},
   "outputs": [],
   "source": [
    "rfc_tuned_resultes = []\n",
    "\n",
    "for x in rfc_tunde:\n",
    "    rfc_resulte = tune_rfc_func(x_train, y_train, x_val, y_val, x[0], x[1], x[2])\n",
    "    rfc_tuned_resultes.append(rfc_resulte)\n",
    "\n",
    "    \n",
    "print(rfc_tuned_resultes)"
   ]
  },
  {
   "cell_type": "markdown",
   "id": "fe35598c",
   "metadata": {},
   "source": [
    "#### Tunning adaboost clasifierie for trainning and testing errors"
   ]
  },
  {
   "cell_type": "code",
   "execution_count": null,
   "id": "9f17695a",
   "metadata": {},
   "outputs": [],
   "source": [
    "abc = AdaBoostClassifier(base_estimator=DecisionTreeClassifier())"
   ]
  },
  {
   "cell_type": "code",
   "execution_count": null,
   "id": "181b1481",
   "metadata": {},
   "outputs": [],
   "source": [
    "def tune_abc_func(x_tr, y_tr, x_ta, y_ta, max_depth, min_samples_split, n_estimators):\n",
    "    \n",
    "    abc_inf = AdaBoostClassifier(base_estimator=DecisionTreeClassifier(max_depth=max_depth, min_samples_split=min_samples_split), n_estimators=n_estimators)\n",
    "    abc_inf.fit(x_tr, y_tr)\n",
    "    \n",
    "    y_pred_tr = abc_inf.predict(x_tr)\n",
    "    y_pred_ta = abc_inf.predict(x_ta)\n",
    "    \n",
    "    y_acc_tr = accuracy_score(y_tr, y_pred_tr)\n",
    "    y_acc_ta = accuracy_score(y_ta, y_pred_ta)\n",
    "    \n",
    "    return [y_acc_tr, y_acc_ta]"
   ]
  },
  {
   "cell_type": "code",
   "execution_count": null,
   "id": "6644e945",
   "metadata": {},
   "outputs": [],
   "source": [
    "rfc_tunde = [\n",
    "                [10, 20, 20],\n",
    "                [5, 10, 10],\n",
    "                [5, 15, 5]\n",
    "            ]"
   ]
  },
  {
   "cell_type": "code",
   "execution_count": null,
   "id": "29be71c7",
   "metadata": {},
   "outputs": [],
   "source": [
    "abc_tuned_resultes = []\n",
    "\n",
    "for x in rfc_tunde:\n",
    "    abc_resulte = tune_abc_func(x_train, y_train, x_val, y_val, x[0], x[1], x[2])\n",
    "    abc_tuned_resultes.append(abc_resulte)\n",
    "\n",
    "    \n",
    "print(abc_tuned_resultes)"
   ]
  },
  {
   "cell_type": "code",
   "execution_count": null,
   "id": "164d119a",
   "metadata": {},
   "outputs": [],
   "source": []
  },
  {
   "cell_type": "code",
   "execution_count": null,
   "id": "b7356c04",
   "metadata": {},
   "outputs": [],
   "source": []
  },
  {
   "cell_type": "code",
   "execution_count": null,
   "id": "78adf8cb",
   "metadata": {},
   "outputs": [],
   "source": []
  }
 ],
 "metadata": {
  "kernelspec": {
   "display_name": "conda_python3",
   "language": "python",
   "name": "conda_python3"
  },
  "language_info": {
   "codemirror_mode": {
    "name": "ipython",
    "version": 3
   },
   "file_extension": ".py",
   "mimetype": "text/x-python",
   "name": "python",
   "nbconvert_exporter": "python",
   "pygments_lexer": "ipython3",
   "version": "3.6.13"
  }
 },
 "nbformat": 4,
 "nbformat_minor": 5
}
