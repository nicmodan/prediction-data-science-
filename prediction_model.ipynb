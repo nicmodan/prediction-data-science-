{
 "cells": [
  {
   "cell_type": "markdown",
   "id": "bf425f72-ae10-4dac-a20d-d2c1082ec72d",
   "metadata": {},
   "source": [
    "# Predicting With vertual premir league Data "
   ]
  },
  {
   "cell_type": "markdown",
   "id": "7c422c6f-7cd7-4769-91df-ad951876ffce",
   "metadata": {},
   "source": [
    "#### Importing sklearn maching learning algorithems and other main libaries"
   ]
  },
  {
   "cell_type": "code",
   "execution_count": 1,
   "id": "ab033518-398c-4de9-b73e-41d516f9c3c6",
   "metadata": {},
   "outputs": [],
   "source": [
    "from matplotlib import pyplot as plt\n",
    "import numpy as np\n",
    "import pandas as pd\n",
    "import seaborn as sb\n",
    "from sklearn.model_selection import train_test_split, cross_validate\n",
    "from sklearn.metrics import precision_score, recall_score, accuracy_score"
   ]
  },
  {
   "cell_type": "markdown",
   "id": "bac10120-9c68-483a-8612-b95438d6b491",
   "metadata": {},
   "source": [
    "#### Accesing data "
   ]
  },
  {
   "cell_type": "code",
   "execution_count": 2,
   "id": "66549265-8c21-4bc7-b321-6ff56f59c1a9",
   "metadata": {},
   "outputs": [
    {
     "name": "stdout",
     "output_type": "stream",
     "text": [
      "(150, 4)\n"
     ]
    },
    {
     "data": {
      "text/html": [
       "<div>\n",
       "<style scoped>\n",
       "    .dataframe tbody tr th:only-of-type {\n",
       "        vertical-align: middle;\n",
       "    }\n",
       "\n",
       "    .dataframe tbody tr th {\n",
       "        vertical-align: top;\n",
       "    }\n",
       "\n",
       "    .dataframe thead th {\n",
       "        text-align: right;\n",
       "    }\n",
       "</style>\n",
       "<table border=\"1\" class=\"dataframe\">\n",
       "  <thead>\n",
       "    <tr style=\"text-align: right;\">\n",
       "      <th></th>\n",
       "      <th>events</th>\n",
       "      <th>weeks</th>\n",
       "      <th>score</th>\n",
       "      <th>teams_index</th>\n",
       "    </tr>\n",
       "  </thead>\n",
       "  <tbody>\n",
       "    <tr>\n",
       "      <th>0</th>\n",
       "      <td>WOL-BRN</td>\n",
       "      <td>1</td>\n",
       "      <td>Home</td>\n",
       "      <td>525-972</td>\n",
       "    </tr>\n",
       "    <tr>\n",
       "      <th>1</th>\n",
       "      <td>ASV-SOU</td>\n",
       "      <td>1</td>\n",
       "      <td>Draw</td>\n",
       "      <td>60-52</td>\n",
       "    </tr>\n",
       "    <tr>\n",
       "      <th>2</th>\n",
       "      <td>TOT-WHU</td>\n",
       "      <td>1</td>\n",
       "      <td>Draw</td>\n",
       "      <td>51-58</td>\n",
       "    </tr>\n",
       "    <tr>\n",
       "      <th>3</th>\n",
       "      <td>BRI-CRY</td>\n",
       "      <td>1</td>\n",
       "      <td>Home</td>\n",
       "      <td>71-55</td>\n",
       "    </tr>\n",
       "    <tr>\n",
       "      <th>4</th>\n",
       "      <td>MNC-EVE</td>\n",
       "      <td>1</td>\n",
       "      <td>Home</td>\n",
       "      <td>46-49</td>\n",
       "    </tr>\n",
       "  </tbody>\n",
       "</table>\n",
       "</div>"
      ],
      "text/plain": [
       "    events  weeks score teams_index\n",
       "0  WOL-BRN      1  Home     525-972\n",
       "1  ASV-SOU      1  Draw       60-52\n",
       "2  TOT-WHU      1  Draw       51-58\n",
       "3  BRI-CRY      1  Home       71-55\n",
       "4  MNC-EVE      1  Home       46-49"
      ]
     },
     "execution_count": 2,
     "metadata": {},
     "output_type": "execute_result"
    }
   ],
   "source": [
    "df = pd.read_csv('./Prediction_train&test_Data/premier_leage_data.csv')\n",
    "print(df.shape)\n",
    "df.head(5)"
   ]
  },
  {
   "cell_type": "code",
   "execution_count": 3,
   "id": "824ad085-6cf7-42f1-9ade-842421fb7452",
   "metadata": {},
   "outputs": [
    {
     "name": "stdout",
     "output_type": "stream",
     "text": [
      "<class 'pandas.core.frame.DataFrame'>\n",
      "RangeIndex: 150 entries, 0 to 149\n",
      "Data columns (total 4 columns):\n",
      " #   Column       Non-Null Count  Dtype \n",
      "---  ------       --------------  ----- \n",
      " 0   events       150 non-null    object\n",
      " 1   weeks        150 non-null    int64 \n",
      " 2   score        150 non-null    object\n",
      " 3   teams_index  150 non-null    object\n",
      "dtypes: int64(1), object(3)\n",
      "memory usage: 4.8+ KB\n"
     ]
    }
   ],
   "source": [
    "df.info()"
   ]
  },
  {
   "cell_type": "code",
   "execution_count": 4,
   "id": "cce0d86c-3164-4b76-b32b-72f8ddbfba47",
   "metadata": {},
   "outputs": [],
   "source": [
    "new_events = []\n",
    "new_score = []\n",
    "new_team_index = []\n",
    "new_week_index = []\n",
    "\n",
    "def set_weak_index(x):\n",
    "    new_week_index.append(x)\n",
    "    new_week_index.append(x)\n",
    "\n",
    "def get_team_index(x):\n",
    "    data = np.float64(x.lower().split('-'))\n",
    "    new_team_index.append(data[0])\n",
    "    new_team_index.append(data[-1])\n",
    "\n",
    "def split_events(x):\n",
    "    data = x.lower().split('-')\n",
    "    new_events.append(data[0])\n",
    "    new_events.append(data[-1])\n",
    "    \n",
    "def get_score(x):\n",
    "    if x == 'Home':\n",
    "        new_score.append('won')\n",
    "        new_score.append('loss')\n",
    "    elif x == 'Away':\n",
    "        new_score.append('loss')\n",
    "        new_score.append('won')\n",
    "    else:\n",
    "        new_score.append('Draw')\n",
    "        new_score.append('Draw')"
   ]
  },
  {
   "cell_type": "code",
   "execution_count": 5,
   "id": "0419f9a0-36c3-4b70-b1a7-2096ec31c201",
   "metadata": {},
   "outputs": [],
   "source": [
    "_ = df.events.apply(split_events)\n",
    "_ = df.score.apply(get_score)\n",
    "_ = df.teams_index.apply(get_team_index)\n",
    "_ = df.weeks.apply(set_weak_index)"
   ]
  },
  {
   "cell_type": "code",
   "execution_count": 6,
   "id": "d7ddd993-af7f-4632-8de9-3ff6c0dfdae8",
   "metadata": {},
   "outputs": [],
   "source": [
    "df2 = pd.DataFrame({'events': new_events, 'wins': new_score, 'teams_index': new_team_index, 'weeaks': new_week_index})"
   ]
  },
  {
   "cell_type": "code",
   "execution_count": 7,
   "id": "08b65688-03fe-417c-8e6d-70a7289122bc",
   "metadata": {},
   "outputs": [
    {
     "data": {
      "text/html": [
       "<div>\n",
       "<style scoped>\n",
       "    .dataframe tbody tr th:only-of-type {\n",
       "        vertical-align: middle;\n",
       "    }\n",
       "\n",
       "    .dataframe tbody tr th {\n",
       "        vertical-align: top;\n",
       "    }\n",
       "\n",
       "    .dataframe thead th {\n",
       "        text-align: right;\n",
       "    }\n",
       "</style>\n",
       "<table border=\"1\" class=\"dataframe\">\n",
       "  <thead>\n",
       "    <tr style=\"text-align: right;\">\n",
       "      <th></th>\n",
       "      <th>events</th>\n",
       "      <th>wins</th>\n",
       "      <th>teams_index</th>\n",
       "      <th>weeaks</th>\n",
       "    </tr>\n",
       "  </thead>\n",
       "  <tbody>\n",
       "    <tr>\n",
       "      <th>0</th>\n",
       "      <td>wol</td>\n",
       "      <td>won</td>\n",
       "      <td>525.0</td>\n",
       "      <td>1</td>\n",
       "    </tr>\n",
       "    <tr>\n",
       "      <th>1</th>\n",
       "      <td>brn</td>\n",
       "      <td>loss</td>\n",
       "      <td>972.0</td>\n",
       "      <td>1</td>\n",
       "    </tr>\n",
       "    <tr>\n",
       "      <th>2</th>\n",
       "      <td>asv</td>\n",
       "      <td>Draw</td>\n",
       "      <td>60.0</td>\n",
       "      <td>1</td>\n",
       "    </tr>\n",
       "    <tr>\n",
       "      <th>3</th>\n",
       "      <td>sou</td>\n",
       "      <td>Draw</td>\n",
       "      <td>52.0</td>\n",
       "      <td>1</td>\n",
       "    </tr>\n",
       "    <tr>\n",
       "      <th>4</th>\n",
       "      <td>tot</td>\n",
       "      <td>Draw</td>\n",
       "      <td>51.0</td>\n",
       "      <td>1</td>\n",
       "    </tr>\n",
       "    <tr>\n",
       "      <th>5</th>\n",
       "      <td>whu</td>\n",
       "      <td>Draw</td>\n",
       "      <td>58.0</td>\n",
       "      <td>1</td>\n",
       "    </tr>\n",
       "    <tr>\n",
       "      <th>6</th>\n",
       "      <td>bri</td>\n",
       "      <td>won</td>\n",
       "      <td>71.0</td>\n",
       "      <td>1</td>\n",
       "    </tr>\n",
       "    <tr>\n",
       "      <th>7</th>\n",
       "      <td>cry</td>\n",
       "      <td>loss</td>\n",
       "      <td>55.0</td>\n",
       "      <td>1</td>\n",
       "    </tr>\n",
       "    <tr>\n",
       "      <th>8</th>\n",
       "      <td>mnc</td>\n",
       "      <td>won</td>\n",
       "      <td>46.0</td>\n",
       "      <td>1</td>\n",
       "    </tr>\n",
       "    <tr>\n",
       "      <th>9</th>\n",
       "      <td>eve</td>\n",
       "      <td>loss</td>\n",
       "      <td>49.0</td>\n",
       "      <td>1</td>\n",
       "    </tr>\n",
       "  </tbody>\n",
       "</table>\n",
       "</div>"
      ],
      "text/plain": [
       "  events  wins  teams_index  weeaks\n",
       "0    wol   won        525.0       1\n",
       "1    brn  loss        972.0       1\n",
       "2    asv  Draw         60.0       1\n",
       "3    sou  Draw         52.0       1\n",
       "4    tot  Draw         51.0       1\n",
       "5    whu  Draw         58.0       1\n",
       "6    bri   won         71.0       1\n",
       "7    cry  loss         55.0       1\n",
       "8    mnc   won         46.0       1\n",
       "9    eve  loss         49.0       1"
      ]
     },
     "execution_count": 7,
     "metadata": {},
     "output_type": "execute_result"
    }
   ],
   "source": [
    "df2.head(10)"
   ]
  },
  {
   "cell_type": "markdown",
   "id": "e4048632-e184-4b60-8a25-17ac7899c27c",
   "metadata": {},
   "source": [
    "#### Spliting Data for training and testing "
   ]
  },
  {
   "cell_type": "code",
   "execution_count": 8,
   "id": "839e0bec-614f-4173-9a70-e2474e90e0b5",
   "metadata": {},
   "outputs": [],
   "source": [
    "x = df2[['teams_index', 'weeaks']] # df2.teams_index.values.reshape(-1, 1) # df2.teams_index.view(-1, 1)\n",
    "y = df2.wins\n",
    "x_train, x_test, y_train, y_test = train_test_split(x, y, test_size=0.2)"
   ]
  },
  {
   "cell_type": "code",
   "execution_count": null,
   "id": "8e9a8c8c-d31d-4bf2-a1f2-2c4073cd722f",
   "metadata": {},
   "outputs": [],
   "source": []
  },
  {
   "cell_type": "markdown",
   "id": "a23c13c1-a25a-4311-ad9f-7c9bac3cf344",
   "metadata": {},
   "source": [
    "#### Importting all ML algorithems for trainning and testing model"
   ]
  },
  {
   "cell_type": "code",
   "execution_count": 9,
   "id": "f657e94d-9416-4a9c-b785-f2005be759f3",
   "metadata": {},
   "outputs": [],
   "source": [
    "from sklearn.tree import DecisionTreeClassifier\n",
    "from sklearn.naive_bayes import GaussianNB\n",
    "from sklearn.svm import SVC\n",
    "# from sklearn.neighbors import KNeighborsClassifier\n",
    "from sklearn.ensemble import RandomForestClassifier\n",
    "from sklearn.ensemble import AdaBoostClassifier"
   ]
  },
  {
   "cell_type": "markdown",
   "id": "27a082af-75ee-4913-a922-30670503812c",
   "metadata": {},
   "source": [
    "#### Initalizing all ML models with out it's paramiters"
   ]
  },
  {
   "cell_type": "code",
   "execution_count": 10,
   "id": "7cfea097-0528-441c-a388-8ca15a2071e6",
   "metadata": {},
   "outputs": [],
   "source": [
    "dtc = DecisionTreeClassifier()\n",
    "gnb = GaussianNB()\n",
    "svc = SVC()\n",
    "rfc = RandomForestClassifier()\n",
    "abc = AdaBoostClassifier(base_estimator=DecisionTreeClassifier())"
   ]
  },
  {
   "cell_type": "markdown",
   "id": "08e0424c-5817-4647-afb3-9346faeb4561",
   "metadata": {},
   "source": [
    "#### Fitting model "
   ]
  },
  {
   "cell_type": "code",
   "execution_count": 11,
   "id": "1a858f47-acbe-4d47-bb5c-f75ddcea19c7",
   "metadata": {},
   "outputs": [
    {
     "data": {
      "text/plain": [
       "AdaBoostClassifier(base_estimator=DecisionTreeClassifier())"
      ]
     },
     "execution_count": 11,
     "metadata": {},
     "output_type": "execute_result"
    }
   ],
   "source": [
    "dtc.fit(x_train, y_train)\n",
    "gnb.fit(x_train, y_train)\n",
    "svc.fit(x_train, y_train)\n",
    "rfc.fit(x_train, y_train)\n",
    "abc.fit(x_train, y_train)\n",
    "# df2.groupby('teams_index').count()"
   ]
  },
  {
   "cell_type": "markdown",
   "id": "0defe3fa-c0e7-4714-bdfc-7d0ad06b98ba",
   "metadata": {},
   "source": [
    "#### Predicting trainning error"
   ]
  },
  {
   "cell_type": "code",
   "execution_count": 12,
   "id": "b7dbb8fd-eed2-468e-9287-e10e2e131834",
   "metadata": {},
   "outputs": [],
   "source": [
    "dtc_train_pred = dtc.predict(x_train)\n",
    "gnb_train_pred = gnb.predict(x_train)\n",
    "svc_train_pred = svc.predict(x_train)\n",
    "rfc_train_pred = rfc.predict(x_train)\n",
    "abc_train_pred = abc.predict(x_train)"
   ]
  },
  {
   "cell_type": "markdown",
   "id": "b22c1c63-f2db-48cf-be45-e24f65669b27",
   "metadata": {},
   "source": [
    "#### Predicting testing error"
   ]
  },
  {
   "cell_type": "code",
   "execution_count": 13,
   "id": "a4f19098-9da5-42d3-a9c9-a879706ec15b",
   "metadata": {},
   "outputs": [],
   "source": [
    "dtc_test_pred = dtc.predict(x_test)\n",
    "gnb_test_pred = gnb.predict(x_test)\n",
    "svc_test_pred = svc.predict(x_test)\n",
    "rfc_test_pred = rfc.predict(x_test)\n",
    "abc_test_pred = abc.predict(x_test)"
   ]
  },
  {
   "cell_type": "markdown",
   "id": "5afb835d-8746-47be-b8f1-a42acc12577c",
   "metadata": {},
   "source": [
    "#### Caluating The Accuraccy of train prediction"
   ]
  },
  {
   "cell_type": "code",
   "execution_count": 14,
   "id": "d6846fdb-2281-4920-b3d5-8e13ea3e37f4",
   "metadata": {},
   "outputs": [],
   "source": [
    "dtc_train_acc = accuracy_score(y_train, dtc_train_pred)\n",
    "gnb_train_acc = accuracy_score(y_train, gnb_train_pred)\n",
    "svc_train_acc = accuracy_score(y_train, svc_train_pred)\n",
    "rfc_train_acc = accuracy_score(y_train, rfc_train_pred)\n",
    "abc_train_acc = accuracy_score(y_train, abc_train_pred)"
   ]
  },
  {
   "cell_type": "code",
   "execution_count": 15,
   "id": "86d314ff-3814-441c-8021-bab48db2513d",
   "metadata": {},
   "outputs": [
    {
     "name": "stdout",
     "output_type": "stream",
     "text": [
      "Accuracy for training data of DecisionTreeClassifier is .....1.0\n",
      "Accuracy for training data of GaussianNB is .....0.375\n",
      "Accuracy for training data of Support Vectore Maching Classifer is .....0.37916666666666665\n",
      "Accuracy for training data of RandomForestClassifier is .....1.0\n",
      "Accuracy for training data of AdaBoostClassifier is .....1.0\n"
     ]
    }
   ],
   "source": [
    "print(f'Accuracy for training data of DecisionTreeClassifier is .....{dtc_train_acc}')\n",
    "print(f'Accuracy for training data of GaussianNB is .....{gnb_train_acc}')\n",
    "print(f'Accuracy for training data of Support Vectore Maching Classifer is .....{svc_train_acc}')\n",
    "print(f'Accuracy for training data of RandomForestClassifier is .....{rfc_train_acc}')\n",
    "print(f'Accuracy for training data of AdaBoostClassifier is .....{abc_train_acc}')"
   ]
  },
  {
   "cell_type": "markdown",
   "id": "216e67e2-a195-420d-952f-2a07a834ecf6",
   "metadata": {},
   "source": [
    "#### Caluating The Accuraccy of test prediction"
   ]
  },
  {
   "cell_type": "code",
   "execution_count": 16,
   "id": "242a7809-a73d-4309-a5ac-18fe7d7aab47",
   "metadata": {},
   "outputs": [],
   "source": [
    "dtc_test_acc = accuracy_score(y_test, dtc_test_pred)\n",
    "gnb_test_acc = accuracy_score(y_test, gnb_test_pred)\n",
    "svc_test_acc = accuracy_score(y_test, svc_test_pred)\n",
    "rfc_test_acc = accuracy_score(y_test, rfc_test_pred)\n",
    "abc_test_acc = accuracy_score(y_test, abc_test_pred)"
   ]
  },
  {
   "cell_type": "code",
   "execution_count": 17,
   "id": "6f1df828-9eec-496d-9c29-74e5c3fd85e8",
   "metadata": {},
   "outputs": [
    {
     "name": "stdout",
     "output_type": "stream",
     "text": [
      "Accuracy for training data of DecisionTreeClassifier is .....0.31666666666666665\n",
      "Accuracy for training data of GaussianNB is .....0.45\n",
      "Accuracy for training data of Support Vectore Maching Classifer is .....0.45\n",
      "Accuracy for training data of RandomForestClassifier is .....0.4\n",
      "Accuracy for training data of AdaBoostClassifier is .....0.31666666666666665\n"
     ]
    }
   ],
   "source": [
    "print(f'Accuracy for training data of DecisionTreeClassifier is .....{dtc_test_acc}')\n",
    "print(f'Accuracy for training data of GaussianNB is .....{gnb_test_acc}')\n",
    "print(f'Accuracy for training data of Support Vectore Maching Classifer is .....{svc_test_acc}')\n",
    "print(f'Accuracy for training data of RandomForestClassifier is .....{rfc_test_acc}')\n",
    "print(f'Accuracy for training data of AdaBoostClassifier is .....{abc_test_acc}')"
   ]
  },
  {
   "cell_type": "markdown",
   "id": "eff36037-fbd5-4f49-a863-b3720ed9cb92",
   "metadata": {},
   "source": [
    "#### Visuzlaisation for the best posible model for overfiting and biais"
   ]
  },
  {
   "cell_type": "code",
   "execution_count": 18,
   "id": "b1a9b367-94e6-484f-9095-d657af3d4031",
   "metadata": {},
   "outputs": [
    {
     "data": {
      "image/png": "[encoded data removed]",
      "text/plain": [
       "<Figure size 720x360 with 1 Axes>"
      ]
     },
     "metadata": {
      "needs_background": "light"
     },
     "output_type": "display_data"
    }
   ],
   "source": [
    "figure = plt.figure(figsize = [10, 5])\n",
    "train_x = [dtc_train_acc, gnb_train_acc, svc_train_acc, rfc_train_acc, abc_train_acc]\n",
    "test_x = [dtc_test_acc, gnb_test_acc, svc_test_acc, rfc_test_acc, abc_test_acc]\n",
    "y_axis = np.arange(len(train_x))\n",
    "# sb.pointplot(x = train_x, y=y_axis, ci=None, linestyles='-')\n",
    "plt.plot(train_x)\n",
    "plt.plot(test_x)\n",
    "plt.legend(['train', 'test']);"
   ]
  },
  {
   "cell_type": "markdown",
   "id": "b2f4dcd5-0ca3-4f44-b4a2-115de2749fe8",
   "metadata": {},
   "source": [
    "### Tunning models"
   ]
  },
  {
   "cell_type": "markdown",
   "id": "c8f54b40-42a0-4f35-9f98-5319926209b1",
   "metadata": {},
   "source": [
    "#### Tunning decition tree classifier for trainning and testing errors"
   ]
  },
  {
   "cell_type": "code",
   "execution_count": 19,
   "id": "daa54fe1-4eac-4889-aa35-5c23018ea69e",
   "metadata": {},
   "outputs": [],
   "source": [
    "dtc_one = DecisionTreeClassifier(max_depth=10, min_samples_split=20)\n",
    "dtc_two = DecisionTreeClassifier(max_depth=10, min_samples_split=20)\n",
    "dtc_three = DecisionTreeClassifier(max_depth=10, min_samples_split=20)"
   ]
  },
  {
   "cell_type": "code",
   "execution_count": 20,
   "id": "acf99afd-4a30-4f75-8a70-0e66d155e0c2",
   "metadata": {},
   "outputs": [],
   "source": [
    "def tune_dtc_func(x_tr, y_tr, x_ta, y_ta, max_depth, min_samples_split):\n",
    "    \n",
    "    dtc_inf = DecisionTreeClassifier(max_depth=max_depth, min_samples_split=min_samples_split)\n",
    "    dtc_inf.fit(x_tr, y_tr)\n",
    "    \n",
    "    y_pred_tr = dtc_inf.predict(x_tr)\n",
    "    y_pred_ta = dtc_inf.predict(x_ta)\n",
    "    \n",
    "    y_acc_tr = accuracy_score(y_tr, y_pred_tr)\n",
    "    y_acc_ta = accuracy_score(y_ta, y_pred_ta)\n",
    "    \n",
    "    return [y_acc_tr, y_acc_ta]"
   ]
  },
  {
   "cell_type": "code",
   "execution_count": 21,
   "id": "0dd8e8c0-c789-4142-92a4-cd836514dbd4",
   "metadata": {},
   "outputs": [],
   "source": [
    "dtc_tunde = [\n",
    "                [10, 20],\n",
    "                [5, 10],\n",
    "                [5, 15]\n",
    "            ]"
   ]
  },
  {
   "cell_type": "code",
   "execution_count": 22,
   "id": "bd323709-0d05-4463-8cf4-d6c321826e56",
   "metadata": {},
   "outputs": [
    {
     "name": "stdout",
     "output_type": "stream",
     "text": [
      "[[0.5875, 0.35], [0.5458333333333333, 0.43333333333333335], [0.5208333333333334, 0.4]]\n"
     ]
    }
   ],
   "source": [
    "dct_tuned_resultes = []\n",
    "\n",
    "for x in dtc_tunde:\n",
    "    dct_resulte = tune_dtc_func(x_train, y_train, x_test, y_test, x[0], x[1])\n",
    "    dct_tuned_resultes.append(dct_resulte)\n",
    "\n",
    "    \n",
    "print(dct_tuned_resultes)"
   ]
  },
  {
   "cell_type": "markdown",
   "id": "25bfc207-a22b-4f8d-ae19-10058e812db1",
   "metadata": {},
   "source": [
    "#### Tunning support vector clasifierie for trainning and testing errors"
   ]
  },
  {
   "cell_type": "code",
   "execution_count": 23,
   "id": "a8e9e887-8718-4ced-b2c4-967a782078be",
   "metadata": {},
   "outputs": [],
   "source": [
    "def tunned_func(x_tr, y_tr, x_ta, y_ta, kernel='rbf', degree=1, C=1.0, gamma=1.0):\n",
    "    \n",
    "    if kernel == 'poly':\n",
    "        svc_inf = SVC(kernel=kernel, degree=degree)#, C=C, gamma=gamma)\n",
    "        \n",
    "    elif kernel == 'ref':       \n",
    "         svc_inf = SVC(kernel=kernel, gamma=gamma)\n",
    "    else:\n",
    "        svc_inf = SVC(C=C, gamma=gamma)\n",
    "        \n",
    "    svc_inf.fit(x_tr, y_tr)\n",
    "    \n",
    "    y_pred_tr = svc_inf.predict(x_tr)\n",
    "    y_pred_ta = svc_inf.predict(x_ta)\n",
    "    \n",
    "    y_acc_tr = accuracy_score(y_tr, y_pred_tr)\n",
    "    y_acc_ta = accuracy_score(y_ta, y_pred_ta)\n",
    "    \n",
    "    return [y_acc_tr, y_acc_ta]"
   ]
  },
  {
   "cell_type": "code",
   "execution_count": 24,
   "id": "b60a9a45-d0c2-4492-bcc9-e94718cf28db",
   "metadata": {},
   "outputs": [],
   "source": [
    "svc_tuned = [\n",
    "                ['poly', 2],# 1, 1], \n",
    "                ['poly', 3],# 1, 1],\n",
    "                ['poly', 4, 1, 1],\n",
    "                ['rbf', 1, 0.3, 1],\n",
    "                ['rbf', 1, 1, 1],\n",
    "                ['linear', 1, 1e-07, 1e9],\n",
    "            ]"
   ]
  },
  {
   "cell_type": "code",
   "execution_count": 25,
   "id": "316ef38c-a6bb-4b9c-84e6-dcc90da0a444",
   "metadata": {},
   "outputs": [
    {
     "name": "stdout",
     "output_type": "stream",
     "text": [
      "[[0.3541666666666667, 0.45], [0.3625, 0.4166666666666667], [0.35833333333333334, 0.43333333333333335], [0.9791666666666666, 0.31666666666666665], [0.9791666666666666, 0.31666666666666665], [0.9791666666666666, 0.31666666666666665]]\n"
     ]
    }
   ],
   "source": [
    "svc_tuned_resultes = []\n",
    "for item in svc_tuned:\n",
    "    svc_resulte = tunned_func(x_train, y_train, x_test, y_test, \n",
    "                              kernel=item[0], degree=item[1])#, C=item[2], gamma=item[3])\n",
    "    svc_tuned_resultes.append(svc_resulte)\n",
    "        \n",
    "print(svc_tuned_resultes)"
   ]
  },
  {
   "cell_type": "markdown",
   "id": "dfe2727c-f760-4193-9728-3e25868f88e4",
   "metadata": {},
   "source": [
    "#### random forest clasifierie for trainning and testing errors"
   ]
  },
  {
   "cell_type": "code",
   "execution_count": 26,
   "id": "3f370eee-2dc2-44d9-96dd-a3fa3d0df569",
   "metadata": {},
   "outputs": [],
   "source": [
    "rfc = RandomForestClassifier()"
   ]
  },
  {
   "cell_type": "code",
   "execution_count": 27,
   "id": "42b293b0-7f80-4024-a4dd-b54addca84c5",
   "metadata": {},
   "outputs": [],
   "source": [
    "def tune_rfc_func(x_tr, y_tr, x_ta, y_ta, max_depth, min_samples_split, n_estimators):\n",
    "    \n",
    "    rfc_inf = RandomForestClassifier(max_depth=max_depth, min_samples_split=min_samples_split, n_estimators=n_estimators)\n",
    "    rfc_inf.fit(x_tr, y_tr)\n",
    "    \n",
    "    y_pred_tr = rfc_inf.predict(x_tr)\n",
    "    y_pred_ta = rfc_inf.predict(x_ta)\n",
    "    \n",
    "    y_acc_tr = accuracy_score(y_tr, y_pred_tr)\n",
    "    y_acc_ta = accuracy_score(y_ta, y_pred_ta)\n",
    "    \n",
    "    return [y_acc_tr, y_acc_ta]"
   ]
  },
  {
   "cell_type": "code",
   "execution_count": 28,
   "id": "638fc114-242d-4235-9024-144c47ad2c64",
   "metadata": {},
   "outputs": [],
   "source": [
    "rfc_tunde = [\n",
    "                [10, 20, 20],\n",
    "                [5, 10, 10],\n",
    "                [5, 15, 5]\n",
    "            ]"
   ]
  },
  {
   "cell_type": "code",
   "execution_count": 29,
   "id": "1d71eda5-416a-4a0e-840b-a8c938de5897",
   "metadata": {},
   "outputs": [
    {
     "name": "stdout",
     "output_type": "stream",
     "text": [
      "[[0.6208333333333333, 0.43333333333333335], [0.5708333333333333, 0.45], [0.4875, 0.4666666666666667]]\n"
     ]
    }
   ],
   "source": [
    "rfc_tuned_resultes = []\n",
    "\n",
    "for x in rfc_tunde:\n",
    "    rfc_resulte = tune_rfc_func(x_train, y_train, x_test, y_test, x[0], x[1], x[2])\n",
    "    rfc_tuned_resultes.append(rfc_resulte)\n",
    "\n",
    "    \n",
    "print(rfc_tuned_resultes)"
   ]
  },
  {
   "cell_type": "markdown",
   "id": "574ee965-b016-40ea-9ad9-2fe8e5f29112",
   "metadata": {},
   "source": [
    "#### Tunning adaboost clasifierie for trainning and testing errors"
   ]
  },
  {
   "cell_type": "code",
   "execution_count": 30,
   "id": "3a394071-02b6-4816-a96d-1e3acbdac566",
   "metadata": {},
   "outputs": [],
   "source": [
    "abc = AdaBoostClassifier(base_estimator=DecisionTreeClassifier())"
   ]
  },
  {
   "cell_type": "code",
   "execution_count": 31,
   "id": "d0bea3b9-dae4-460c-a619-d01b899ded22",
   "metadata": {},
   "outputs": [],
   "source": [
    "def tune_abc_func(x_tr, y_tr, x_ta, y_ta, max_depth, min_samples_split, n_estimators):\n",
    "    \n",
    "    abc_inf = AdaBoostClassifier(base_estimator=DecisionTreeClassifier(max_depth=max_depth, min_samples_split=min_samples_split), n_estimators=n_estimators)\n",
    "    abc_inf.fit(x_tr, y_tr)\n",
    "    \n",
    "    y_pred_tr = abc_inf.predict(x_tr)\n",
    "    y_pred_ta = abc_inf.predict(x_ta)\n",
    "    \n",
    "    y_acc_tr = accuracy_score(y_tr, y_pred_tr)\n",
    "    y_acc_ta = accuracy_score(y_ta, y_pred_ta)\n",
    "    \n",
    "    return [y_acc_tr, y_acc_ta]"
   ]
  },
  {
   "cell_type": "code",
   "execution_count": 32,
   "id": "62b73d5e-3ffb-4b22-8c90-b5ef9b391c66",
   "metadata": {},
   "outputs": [],
   "source": [
    "rfc_tunde = [\n",
    "                [10, 20, 20],\n",
    "                [5, 10, 10],\n",
    "                [5, 15, 5]\n",
    "            ]"
   ]
  },
  {
   "cell_type": "code",
   "execution_count": 33,
   "id": "f500d037-41de-400d-a2ac-4b602a7dc070",
   "metadata": {},
   "outputs": [
    {
     "name": "stdout",
     "output_type": "stream",
     "text": [
      "[[0.8666666666666667, 0.2833333333333333], [0.8, 0.3333333333333333], [0.6875, 0.26666666666666666]]\n"
     ]
    }
   ],
   "source": [
    "abc_tuned_resultes = []\n",
    "\n",
    "for x in rfc_tunde:\n",
    "    abc_resulte = tune_abc_func(x_train, y_train, x_test, y_test, x[0], x[1], x[2])\n",
    "    abc_tuned_resultes.append(abc_resulte)\n",
    "\n",
    "    \n",
    "print(abc_tuned_resultes)"
   ]
  },
  {
   "cell_type": "code",
   "execution_count": null,
   "id": "049ab92a-1584-4ad9-a465-bbee157b1c35",
   "metadata": {},
   "outputs": [],
   "source": []
  },
  {
   "cell_type": "code",
   "execution_count": null,
   "id": "c8c9f89d-9562-44bf-883c-1e5c11f0266b",
   "metadata": {},
   "outputs": [],
   "source": []
  },
  {
   "cell_type": "code",
   "execution_count": null,
   "id": "9da09d50-a754-448d-b9a7-ba5c50bd9996",
   "metadata": {},
   "outputs": [],
   "source": []
  }
 ],
 "metadata": {
  "kernelspec": {
   "display_name": "Python 3",
   "language": "python",
   "name": "python3"
  },
  "language_info": {
   "codemirror_mode": {
    "name": "ipython",
    "version": 3
   },
   "file_extension": ".py",
   "mimetype": "text/x-python",
   "name": "python",
   "nbconvert_exporter": "python",
   "pygments_lexer": "ipython3",
   "version": "3.8.8"
  }
 },
 "nbformat": 4,
 "nbformat_minor": 5
}
