{
 "cells": [
  {
   "cell_type": "markdown",
   "id": "bf425f72-ae10-4dac-a20d-d2c1082ec72d",
   "metadata": {},
   "source": [
    "# Predicting With vertual premir league Data "
   ]
  },
  {
   "cell_type": "markdown",
   "id": "7c422c6f-7cd7-4769-91df-ad951876ffce",
   "metadata": {},
   "source": [
    "#### Importing sklearn maching learning algorithems and other main libaries"
   ]
  },
  {
   "cell_type": "code",
   "execution_count": 1,
   "id": "ab033518-398c-4de9-b73e-41d516f9c3c6",
   "metadata": {},
   "outputs": [],
   "source": [
    "from matplotlib import pyplot as plt\n",
    "import numpy as np\n",
    "import pandas as pd\n",
    "import seaborn as sb\n",
    "from sklearn.model_selection import train_test_split, cross_validate\n",
    "from sklearn.metrics import precision_score, recall_score, accuracy_score"
   ]
  },
  {
   "cell_type": "markdown",
   "id": "bac10120-9c68-483a-8612-b95438d6b491",
   "metadata": {},
   "source": [
    "#### Accesing data "
   ]
  },
  {
   "cell_type": "code",
   "execution_count": 2,
   "id": "66549265-8c21-4bc7-b321-6ff56f59c1a9",
   "metadata": {},
   "outputs": [
    {
     "name": "stdout",
     "output_type": "stream",
     "text": [
      "(110, 3)\n"
     ]
    },
    {
     "data": {
      "text/html": [
       "<div>\n",
       "<style scoped>\n",
       "    .dataframe tbody tr th:only-of-type {\n",
       "        vertical-align: middle;\n",
       "    }\n",
       "\n",
       "    .dataframe tbody tr th {\n",
       "        vertical-align: top;\n",
       "    }\n",
       "\n",
       "    .dataframe thead th {\n",
       "        text-align: right;\n",
       "    }\n",
       "</style>\n",
       "<table border=\"1\" class=\"dataframe\">\n",
       "  <thead>\n",
       "    <tr style=\"text-align: right;\">\n",
       "      <th></th>\n",
       "      <th>events</th>\n",
       "      <th>score</th>\n",
       "      <th>teams_index</th>\n",
       "    </tr>\n",
       "  </thead>\n",
       "  <tbody>\n",
       "    <tr>\n",
       "      <th>0</th>\n",
       "      <td>LIV-WHU</td>\n",
       "      <td>Home</td>\n",
       "      <td>45-58</td>\n",
       "    </tr>\n",
       "    <tr>\n",
       "      <th>1</th>\n",
       "      <td>MNC-CHE</td>\n",
       "      <td>Away</td>\n",
       "      <td>46-47</td>\n",
       "    </tr>\n",
       "    <tr>\n",
       "      <th>2</th>\n",
       "      <td>MNU-LEE</td>\n",
       "      <td>Home</td>\n",
       "      <td>50-827</td>\n",
       "    </tr>\n",
       "    <tr>\n",
       "      <th>3</th>\n",
       "      <td>BRI-NOR</td>\n",
       "      <td>Home</td>\n",
       "      <td>71-66</td>\n",
       "    </tr>\n",
       "    <tr>\n",
       "      <th>4</th>\n",
       "      <td>NWC-WAT</td>\n",
       "      <td>Home</td>\n",
       "      <td>53-70</td>\n",
       "    </tr>\n",
       "  </tbody>\n",
       "</table>\n",
       "</div>"
      ],
      "text/plain": [
       "    events score teams_index\n",
       "0  LIV-WHU  Home       45-58\n",
       "1  MNC-CHE  Away       46-47\n",
       "2  MNU-LEE  Home      50-827\n",
       "3  BRI-NOR  Home       71-66\n",
       "4  NWC-WAT  Home       53-70"
      ]
     },
     "execution_count": 2,
     "metadata": {},
     "output_type": "execute_result"
    }
   ],
   "source": [
    "df = pd.read_csv('./Prediction_train&test_Data/premier_leage_data.csv')\n",
    "print(df.shape)\n",
    "df.head(5)"
   ]
  },
  {
   "cell_type": "code",
   "execution_count": 3,
   "id": "824ad085-6cf7-42f1-9ade-842421fb7452",
   "metadata": {},
   "outputs": [
    {
     "name": "stdout",
     "output_type": "stream",
     "text": [
      "<class 'pandas.core.frame.DataFrame'>\n",
      "RangeIndex: 110 entries, 0 to 109\n",
      "Data columns (total 3 columns):\n",
      " #   Column       Non-Null Count  Dtype \n",
      "---  ------       --------------  ----- \n",
      " 0   events       110 non-null    object\n",
      " 1   score        110 non-null    object\n",
      " 2   teams_index  110 non-null    object\n",
      "dtypes: object(3)\n",
      "memory usage: 2.7+ KB\n"
     ]
    }
   ],
   "source": [
    "df.info()"
   ]
  },
  {
   "cell_type": "code",
   "execution_count": 4,
   "id": "cce0d86c-3164-4b76-b32b-72f8ddbfba47",
   "metadata": {},
   "outputs": [],
   "source": [
    "new_events = []\n",
    "new_score = []\n",
    "new_team_index = []\n",
    "\n",
    "def get_team_index(x):\n",
    "    data = np.float64(x.lower().split('-'))\n",
    "    new_team_index.append(data[0])\n",
    "    new_team_index.append(data[-1])\n",
    "\n",
    "def split_events(x):\n",
    "    data = x.lower().split('-')\n",
    "    new_events.append(data[0])\n",
    "    new_events.append(data[-1])\n",
    "    \n",
    "def get_score(x):\n",
    "    if x == 'Home':\n",
    "        new_score.append('won')\n",
    "        new_score.append('loss')\n",
    "    elif x == 'Away':\n",
    "        new_score.append('loss')\n",
    "        new_score.append('won')\n",
    "    else:\n",
    "        new_score.append('Draw')\n",
    "        new_score.append('Draw')"
   ]
  },
  {
   "cell_type": "code",
   "execution_count": 5,
   "id": "0419f9a0-36c3-4b70-b1a7-2096ec31c201",
   "metadata": {},
   "outputs": [],
   "source": [
    "_ = df.events.apply(split_events)\n",
    "_ = df.score.apply(get_score)\n",
    "_ = df.teams_index.apply(get_team_index)"
   ]
  },
  {
   "cell_type": "code",
   "execution_count": 6,
   "id": "d7ddd993-af7f-4632-8de9-3ff6c0dfdae8",
   "metadata": {},
   "outputs": [],
   "source": [
    "df2 = pd.DataFrame({'events': new_events, 'wins': new_score, 'teams_index': new_team_index})"
   ]
  },
  {
   "cell_type": "code",
   "execution_count": 7,
   "id": "08b65688-03fe-417c-8e6d-70a7289122bc",
   "metadata": {},
   "outputs": [
    {
     "data": {
      "text/html": [
       "<div>\n",
       "<style scoped>\n",
       "    .dataframe tbody tr th:only-of-type {\n",
       "        vertical-align: middle;\n",
       "    }\n",
       "\n",
       "    .dataframe tbody tr th {\n",
       "        vertical-align: top;\n",
       "    }\n",
       "\n",
       "    .dataframe thead th {\n",
       "        text-align: right;\n",
       "    }\n",
       "</style>\n",
       "<table border=\"1\" class=\"dataframe\">\n",
       "  <thead>\n",
       "    <tr style=\"text-align: right;\">\n",
       "      <th></th>\n",
       "      <th>events</th>\n",
       "      <th>wins</th>\n",
       "      <th>teams_index</th>\n",
       "    </tr>\n",
       "  </thead>\n",
       "  <tbody>\n",
       "    <tr>\n",
       "      <th>0</th>\n",
       "      <td>liv</td>\n",
       "      <td>won</td>\n",
       "      <td>45.0</td>\n",
       "    </tr>\n",
       "    <tr>\n",
       "      <th>1</th>\n",
       "      <td>whu</td>\n",
       "      <td>loss</td>\n",
       "      <td>58.0</td>\n",
       "    </tr>\n",
       "    <tr>\n",
       "      <th>2</th>\n",
       "      <td>mnc</td>\n",
       "      <td>loss</td>\n",
       "      <td>46.0</td>\n",
       "    </tr>\n",
       "    <tr>\n",
       "      <th>3</th>\n",
       "      <td>che</td>\n",
       "      <td>won</td>\n",
       "      <td>47.0</td>\n",
       "    </tr>\n",
       "    <tr>\n",
       "      <th>4</th>\n",
       "      <td>mnu</td>\n",
       "      <td>won</td>\n",
       "      <td>50.0</td>\n",
       "    </tr>\n",
       "    <tr>\n",
       "      <th>5</th>\n",
       "      <td>lee</td>\n",
       "      <td>loss</td>\n",
       "      <td>827.0</td>\n",
       "    </tr>\n",
       "    <tr>\n",
       "      <th>6</th>\n",
       "      <td>bri</td>\n",
       "      <td>won</td>\n",
       "      <td>71.0</td>\n",
       "    </tr>\n",
       "    <tr>\n",
       "      <th>7</th>\n",
       "      <td>nor</td>\n",
       "      <td>loss</td>\n",
       "      <td>66.0</td>\n",
       "    </tr>\n",
       "    <tr>\n",
       "      <th>8</th>\n",
       "      <td>nwc</td>\n",
       "      <td>won</td>\n",
       "      <td>53.0</td>\n",
       "    </tr>\n",
       "    <tr>\n",
       "      <th>9</th>\n",
       "      <td>wat</td>\n",
       "      <td>loss</td>\n",
       "      <td>70.0</td>\n",
       "    </tr>\n",
       "  </tbody>\n",
       "</table>\n",
       "</div>"
      ],
      "text/plain": [
       "  events  wins  teams_index\n",
       "0    liv   won         45.0\n",
       "1    whu  loss         58.0\n",
       "2    mnc  loss         46.0\n",
       "3    che   won         47.0\n",
       "4    mnu   won         50.0\n",
       "5    lee  loss        827.0\n",
       "6    bri   won         71.0\n",
       "7    nor  loss         66.0\n",
       "8    nwc   won         53.0\n",
       "9    wat  loss         70.0"
      ]
     },
     "execution_count": 7,
     "metadata": {},
     "output_type": "execute_result"
    }
   ],
   "source": [
    "df2.head(10)"
   ]
  },
  {
   "cell_type": "markdown",
   "id": "e4048632-e184-4b60-8a25-17ac7899c27c",
   "metadata": {},
   "source": [
    "#### Spliting Data for training and testing "
   ]
  },
  {
   "cell_type": "code",
   "execution_count": 8,
   "id": "839e0bec-614f-4173-9a70-e2474e90e0b5",
   "metadata": {},
   "outputs": [],
   "source": [
    "x = df2.teams_index.values.reshape(-1, 1) # df2.teams_index.view(-1, 1)\n",
    "y = df2.wins\n",
    "x_train, x_test, y_train, y_test = train_test_split(x, y, test_size=0.2)"
   ]
  },
  {
   "cell_type": "markdown",
   "id": "a23c13c1-a25a-4311-ad9f-7c9bac3cf344",
   "metadata": {},
   "source": [
    "#### Importting all ML algorithems for trainning and testing model"
   ]
  },
  {
   "cell_type": "code",
   "execution_count": 9,
   "id": "f657e94d-9416-4a9c-b785-f2005be759f3",
   "metadata": {},
   "outputs": [],
   "source": [
    "from sklearn.tree import DecisionTreeClassifier\n",
    "from sklearn.naive_bayes import GaussianNB\n",
    "from sklearn.svm import SVC\n",
    "# from sklearn.neighbors import KNeighborsClassifier\n",
    "from sklearn.ensemble import RandomForestClassifier\n",
    "from sklearn.ensemble import AdaBoostClassifier"
   ]
  },
  {
   "cell_type": "markdown",
   "id": "27a082af-75ee-4913-a922-30670503812c",
   "metadata": {},
   "source": [
    "#### Initalizing all ML models with out it's paramiters"
   ]
  },
  {
   "cell_type": "code",
   "execution_count": 10,
   "id": "7cfea097-0528-441c-a388-8ca15a2071e6",
   "metadata": {},
   "outputs": [],
   "source": [
    "dtc = DecisionTreeClassifier()\n",
    "gnb = GaussianNB()\n",
    "svc = SVC()\n",
    "rfc = RandomForestClassifier()\n",
    "abc = AdaBoostClassifier(base_estimator=DecisionTreeClassifier())"
   ]
  },
  {
   "cell_type": "markdown",
   "id": "08e0424c-5817-4647-afb3-9346faeb4561",
   "metadata": {},
   "source": [
    "#### Fitting model "
   ]
  },
  {
   "cell_type": "code",
   "execution_count": 11,
   "id": "1a858f47-acbe-4d47-bb5c-f75ddcea19c7",
   "metadata": {},
   "outputs": [
    {
     "data": {
      "text/plain": [
       "AdaBoostClassifier(base_estimator=DecisionTreeClassifier())"
      ]
     },
     "execution_count": 11,
     "metadata": {},
     "output_type": "execute_result"
    }
   ],
   "source": [
    "dtc.fit(x_train, y_train)\n",
    "gnb.fit(x_train, y_train)\n",
    "svc.fit(x_train, y_train)\n",
    "rfc.fit(x_train, y_train)\n",
    "abc.fit(x_train, y_train)\n",
    "# df2.groupby('teams_index').count()"
   ]
  },
  {
   "cell_type": "markdown",
   "id": "0defe3fa-c0e7-4714-bdfc-7d0ad06b98ba",
   "metadata": {},
   "source": [
    "#### Predicting trainning error"
   ]
  },
  {
   "cell_type": "code",
   "execution_count": 12,
   "id": "b7dbb8fd-eed2-468e-9287-e10e2e131834",
   "metadata": {},
   "outputs": [],
   "source": [
    "dtc_train_pred = dtc.predict(x_train)\n",
    "gnb_train_pred = gnb.predict(x_train)\n",
    "svc_train_pred = svc.predict(x_train)\n",
    "rfc_train_pred = rfc.predict(x_train)\n",
    "abc_train_pred = abc.predict(x_train)"
   ]
  },
  {
   "cell_type": "markdown",
   "id": "b22c1c63-f2db-48cf-be45-e24f65669b27",
   "metadata": {},
   "source": [
    "#### Predicting testing error"
   ]
  },
  {
   "cell_type": "code",
   "execution_count": 13,
   "id": "a4f19098-9da5-42d3-a9c9-a879706ec15b",
   "metadata": {},
   "outputs": [],
   "source": [
    "dtc_test_pred = dtc.predict(x_test)\n",
    "gnb_test_pred = gnb.predict(x_test)\n",
    "svc_test_pred = svc.predict(x_test)\n",
    "rfc_test_pred = rfc.predict(x_test)\n",
    "abc_test_pred = abc.predict(x_test)"
   ]
  },
  {
   "cell_type": "markdown",
   "id": "5afb835d-8746-47be-b8f1-a42acc12577c",
   "metadata": {},
   "source": [
    "#### Caluating The Accuraccy of train prediction"
   ]
  },
  {
   "cell_type": "code",
   "execution_count": 14,
   "id": "d6846fdb-2281-4920-b3d5-8e13ea3e37f4",
   "metadata": {},
   "outputs": [],
   "source": [
    "dtc_train_acc = accuracy_score(y_train, dtc_train_pred)\n",
    "gnb_train_acc = accuracy_score(y_train, gnb_train_pred)\n",
    "svc_train_acc = accuracy_score(y_train, svc_train_pred)\n",
    "rfc_train_acc = accuracy_score(y_train, rfc_train_pred)\n",
    "abc_train_acc = accuracy_score(y_train, abc_train_pred)"
   ]
  },
  {
   "cell_type": "code",
   "execution_count": 15,
   "id": "86d314ff-3814-441c-8021-bab48db2513d",
   "metadata": {},
   "outputs": [
    {
     "name": "stdout",
     "output_type": "stream",
     "text": [
      "Accuracy for training data of DecisionTreeClassifier is .....0.5397727272727273\n",
      "Accuracy for training data of GaussianNB is .....0.4147727272727273\n",
      "Accuracy for training data of Support Vectore Maching Classifer is .....0.4431818181818182\n",
      "Accuracy for training data of RandomForestClassifier is .....0.5397727272727273\n",
      "Accuracy for training data of AdaBoostClassifier is .....0.5397727272727273\n"
     ]
    }
   ],
   "source": [
    "print(f'Accuracy for training data of DecisionTreeClassifier is .....{dtc_train_acc}')\n",
    "print(f'Accuracy for training data of GaussianNB is .....{gnb_train_acc}')\n",
    "print(f'Accuracy for training data of Support Vectore Maching Classifer is .....{svc_train_acc}')\n",
    "print(f'Accuracy for training data of RandomForestClassifier is .....{rfc_train_acc}')\n",
    "print(f'Accuracy for training data of AdaBoostClassifier is .....{abc_train_acc}')"
   ]
  },
  {
   "cell_type": "markdown",
   "id": "216e67e2-a195-420d-952f-2a07a834ecf6",
   "metadata": {},
   "source": [
    "#### Caluating The Accuraccy of test prediction"
   ]
  },
  {
   "cell_type": "code",
   "execution_count": 16,
   "id": "242a7809-a73d-4309-a5ac-18fe7d7aab47",
   "metadata": {},
   "outputs": [],
   "source": [
    "dtc_test_acc = accuracy_score(y_test, dtc_test_pred)\n",
    "gnb_test_acc = accuracy_score(y_test, gnb_test_pred)\n",
    "svc_test_acc = accuracy_score(y_test, svc_test_pred)\n",
    "rfc_test_acc = accuracy_score(y_test, rfc_test_pred)\n",
    "abc_test_acc = accuracy_score(y_test, abc_test_pred)"
   ]
  },
  {
   "cell_type": "code",
   "execution_count": 17,
   "id": "6f1df828-9eec-496d-9c29-74e5c3fd85e8",
   "metadata": {},
   "outputs": [
    {
     "name": "stdout",
     "output_type": "stream",
     "text": [
      "Accuracy for training data of DecisionTreeClassifier is .....0.4318181818181818\n",
      "Accuracy for training data of GaussianNB is .....0.3409090909090909\n",
      "Accuracy for training data of Support Vectore Maching Classifer is .....0.36363636363636365\n",
      "Accuracy for training data of RandomForestClassifier is .....0.36363636363636365\n",
      "Accuracy for training data of AdaBoostClassifier is .....0.4318181818181818\n"
     ]
    }
   ],
   "source": [
    "print(f'Accuracy for training data of DecisionTreeClassifier is .....{dtc_test_acc}')\n",
    "print(f'Accuracy for training data of GaussianNB is .....{gnb_test_acc}')\n",
    "print(f'Accuracy for training data of Support Vectore Maching Classifer is .....{svc_test_acc}')\n",
    "print(f'Accuracy for training data of RandomForestClassifier is .....{rfc_test_acc}')\n",
    "print(f'Accuracy for training data of AdaBoostClassifier is .....{abc_test_acc}')"
   ]
  },
  {
   "cell_type": "markdown",
   "id": "eff36037-fbd5-4f49-a863-b3720ed9cb92",
   "metadata": {},
   "source": [
    "#### Visuzlaisation for the best posible model for overfiting and biais"
   ]
  },
  {
   "cell_type": "code",
   "execution_count": null,
   "id": "b1a9b367-94e6-484f-9095-d657af3d4031",
   "metadata": {},
   "outputs": [],
   "source": []
  },
  {
   "cell_type": "code",
   "execution_count": null,
   "id": "b2c81ece-1f03-4571-b10f-2fe916e39e22",
   "metadata": {},
   "outputs": [],
   "source": []
  },
  {
   "cell_type": "code",
   "execution_count": null,
   "id": "3a0db9e6-d040-4913-8b8a-182c7016db6d",
   "metadata": {},
   "outputs": [],
   "source": []
  },
  {
   "cell_type": "code",
   "execution_count": null,
   "id": "3a394071-02b6-4816-a96d-1e3acbdac566",
   "metadata": {},
   "outputs": [],
   "source": []
  },
  {
   "cell_type": "code",
   "execution_count": null,
   "id": "d0bea3b9-dae4-460c-a619-d01b899ded22",
   "metadata": {},
   "outputs": [],
   "source": []
  }
 ],
 "metadata": {
  "kernelspec": {
   "display_name": "Python 3",
   "language": "python",
   "name": "python3"
  },
  "language_info": {
   "codemirror_mode": {
    "name": "ipython",
    "version": 3
   },
   "file_extension": ".py",
   "mimetype": "text/x-python",
   "name": "python",
   "nbconvert_exporter": "python",
   "pygments_lexer": "ipython3",
   "version": "3.8.8"
  }
 },
 "nbformat": 4,
 "nbformat_minor": 5
}
