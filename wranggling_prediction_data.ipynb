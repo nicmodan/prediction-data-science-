{
 "cells": [
  {
   "cell_type": "markdown",
   "id": "14f53a51-a5d1-4857-81b8-6c71751b3e1c",
   "metadata": {},
   "source": [
    "# PREDICTION WEB APPLICATION"
   ]
  },
  {
   "cell_type": "markdown",
   "id": "b063d320-86f3-4eb5-9439-ac3094934d8a",
   "metadata": {},
   "source": [
    "### Importing liabriess "
   ]
  },
  {
   "cell_type": "code",
   "execution_count": 1,
   "id": "4a590bca-9b33-43e8-a86d-8246b4416ed5",
   "metadata": {},
   "outputs": [],
   "source": [
    "import numpy as np\n",
    "import pandas as pd\n",
    "from matplotlib import pyplot as plt\n",
    "import seaborn as sb\n",
    "import os\n",
    "import glob\n",
    "import json \n",
    "import requests\n",
    "from bs4 import BeautifulSoup\n",
    "%matplotlib inline"
   ]
  },
  {
   "cell_type": "markdown",
   "id": "59c56396-d095-47ba-9662-e52c64970d62",
   "metadata": {},
   "source": [
    "#### Creating function for Downloading Data For Training and Testing The Model"
   ]
  },
  {
   "cell_type": "code",
   "execution_count": 2,
   "id": "5e695cea-d372-4961-8709-7dae050f8fbc",
   "metadata": {},
   "outputs": [],
   "source": [
    "# os.listdir('./Prediction_train&test_Data')\n",
    "def load_data(url):\n",
    "    \n",
    "    folderName = './Prediction_train&test_Data/'\n",
    "    fileName = 'league_data.json'\n",
    "    path = os.path.join(folderName, fileName)\n",
    "\n",
    "    if os.path.exists(path):\n",
    "        files = glob.glob('./Prediction_train&test_Data/*')\n",
    "        for f in files:\n",
    "            os.remove(f)\n",
    "\n",
    "    response = requests.get(url)\n",
    "    # print(path)\n",
    "\n",
    "    with open(path, 'wb') as outfile:\n",
    "        outfile.write(response.content)\n",
    "     \n",
    "\n",
    "        \n",
    "url = 'https://vsmobile.bet9ja.com/shopadmin/standings_view/league_data.php?pid=14001'\n",
    "load_data(url)"
   ]
  },
  {
   "cell_type": "markdown",
   "id": "bf197526-d64d-4821-92a8-203c33ad2b52",
   "metadata": {},
   "source": [
    "#### Reading Json Files "
   ]
  },
  {
   "cell_type": "code",
   "execution_count": 3,
   "id": "4c34c7ac-5f95-480b-8454-15882a492cd5",
   "metadata": {},
   "outputs": [],
   "source": [
    "folderName = './Prediction_train&test_Data/'\n",
    "fileName = 'league_data.json'\n",
    "path = os.path.join(folderName, fileName)\n",
    "\n",
    "with open(path, 'r') as outfile:\n",
    "    json_obj = json.load(outfile)"
   ]
  },
  {
   "cell_type": "code",
   "execution_count": 4,
   "id": "9f666e30-b51a-4353-ae3a-6e1308257c74",
   "metadata": {},
   "outputs": [],
   "source": [
    "clubes = json_obj['teams']\n",
    "matches = json_obj['matches']\n",
    "teams = []\n",
    "resulte = []\n",
    "wonmarke = []\n",
    "\n",
    "count = 0\n",
    "for key, val in matches.items():\n",
    "    \n",
    "    teams.append({key: []})\n",
    "    resulte.append({key: []})\n",
    "    wonmarke.append({key: []})\n",
    "    \n",
    "    for x in val:\n",
    "        \n",
    "        teams[count][key].append([val[x]['teamA'], val[x]['teamB']])\n",
    "        resulte[count][key].append(val[x]['result'])\n",
    "        wonmarke[count][key].append(val[x]['wonmarkets'])\n",
    "        \n",
    "    count +=1"
   ]
  },
  {
   "cell_type": "code",
   "execution_count": 5,
   "id": "1f582f72-3e8b-4e17-9617-92ba46141bf8",
   "metadata": {},
   "outputs": [],
   "source": [
    "# json_obj\n",
    "# teams\n",
    "# resulte\n",
    "# wonmarke"
   ]
  },
  {
   "cell_type": "markdown",
   "id": "f0d25e86-b458-4a79-b205-72480699c96c",
   "metadata": {},
   "source": [
    "#### Wranggling Data into Data Base"
   ]
  },
  {
   "cell_type": "markdown",
   "id": "daca02de-a48d-41bf-928d-51ca48b64a3b",
   "metadata": {},
   "source": [
    "- Data\n",
    "    - columns:\n",
    "        - teams\n",
    "        - winners(0 home, 1 draw, 2 away)\n",
    "\n"
   ]
  },
  {
   "cell_type": "code",
   "execution_count": 6,
   "id": "f998e041-7320-4603-b4d1-218d4cb15437",
   "metadata": {},
   "outputs": [],
   "source": [
    "# resulte"
   ]
  },
  {
   "cell_type": "code",
   "execution_count": 7,
   "id": "a0d6cc97-d177-4b26-85a7-ebdead3c6a5e",
   "metadata": {},
   "outputs": [],
   "source": [
    "# wonmarke\n",
    "# teams"
   ]
  },
  {
   "cell_type": "code",
   "execution_count": 8,
   "id": "6022b369-d9c3-45cf-9156-a099d4137b32",
   "metadata": {},
   "outputs": [],
   "source": [
    "# events = []\n",
    "events = {}\n",
    "teams_index = {}\n",
    "for x in range(len(teams)):\n",
    "    for y, obj in teams[x].items():\n",
    "        events[y] = []\n",
    "        teams_index[y] = []\n",
    "        for i in obj:\n",
    "            teamA = clubes[i[0]]['fifa']\n",
    "            teamB = clubes[i[1]]['fifa']\n",
    "            events[y].append(f'{teamA}-{teamB}')\n",
    "            teams_index[y].append('-'.join(i))"
   ]
  },
  {
   "cell_type": "code",
   "execution_count": 9,
   "id": "9beaad28-5e98-4d23-bea8-d0d1cafb3e52",
   "metadata": {},
   "outputs": [],
   "source": [
    "score = {}\n",
    "for x in range(len(wonmarke)):\n",
    "    for y, string in wonmarke[x].items():\n",
    "        score[y] = []\n",
    "        for j in string:\n",
    "            resulte_win = j.split(',')[0]\n",
    "            score[y].append(resulte_win)"
   ]
  },
  {
   "cell_type": "code",
   "execution_count": null,
   "id": "2d02d856-2fd1-4a98-bfb3-7977dcc6045e",
   "metadata": {},
   "outputs": [],
   "source": []
  },
  {
   "cell_type": "code",
   "execution_count": 10,
   "id": "21bf9136-4dd4-47cd-864f-f11f1622a38b",
   "metadata": {},
   "outputs": [],
   "source": [
    "# score\n",
    "# events\n",
    "socore_dataframe = pd.DataFrame(score)\n",
    "events_dataframe = pd.DataFrame(events)\n",
    "teams_index_dataframe = pd.DataFrame(teams_index)"
   ]
  },
  {
   "cell_type": "code",
   "execution_count": 11,
   "id": "ba952fb5-ec25-4ea5-8532-37a694fdbb2e",
   "metadata": {},
   "outputs": [
    {
     "data": {
      "text/html": [
       "<div>\n",
       "<style scoped>\n",
       "    .dataframe tbody tr th:only-of-type {\n",
       "        vertical-align: middle;\n",
       "    }\n",
       "\n",
       "    .dataframe tbody tr th {\n",
       "        vertical-align: top;\n",
       "    }\n",
       "\n",
       "    .dataframe thead th {\n",
       "        text-align: right;\n",
       "    }\n",
       "</style>\n",
       "<table border=\"1\" class=\"dataframe\">\n",
       "  <thead>\n",
       "    <tr style=\"text-align: right;\">\n",
       "      <th></th>\n",
       "      <th>1</th>\n",
       "      <th>2</th>\n",
       "      <th>3</th>\n",
       "    </tr>\n",
       "  </thead>\n",
       "  <tbody>\n",
       "    <tr>\n",
       "      <th>0</th>\n",
       "      <td>Away</td>\n",
       "      <td>Home</td>\n",
       "      <td>Away</td>\n",
       "    </tr>\n",
       "    <tr>\n",
       "      <th>1</th>\n",
       "      <td>Away</td>\n",
       "      <td>Home</td>\n",
       "      <td>Home</td>\n",
       "    </tr>\n",
       "    <tr>\n",
       "      <th>2</th>\n",
       "      <td>Home</td>\n",
       "      <td>Home</td>\n",
       "      <td>Away</td>\n",
       "    </tr>\n",
       "    <tr>\n",
       "      <th>3</th>\n",
       "      <td>Draw</td>\n",
       "      <td>Home</td>\n",
       "      <td>Draw</td>\n",
       "    </tr>\n",
       "    <tr>\n",
       "      <th>4</th>\n",
       "      <td>Away</td>\n",
       "      <td>Away</td>\n",
       "      <td>Home</td>\n",
       "    </tr>\n",
       "  </tbody>\n",
       "</table>\n",
       "</div>"
      ],
      "text/plain": [
       "      1     2     3\n",
       "0  Away  Home  Away\n",
       "1  Away  Home  Home\n",
       "2  Home  Home  Away\n",
       "3  Draw  Home  Draw\n",
       "4  Away  Away  Home"
      ]
     },
     "execution_count": 11,
     "metadata": {},
     "output_type": "execute_result"
    }
   ],
   "source": [
    "socore_dataframe.head()"
   ]
  },
  {
   "cell_type": "code",
   "execution_count": 12,
   "id": "95e64f90-2b10-4626-864e-f356958a0a5a",
   "metadata": {},
   "outputs": [
    {
     "data": {
      "text/html": [
       "<div>\n",
       "<style scoped>\n",
       "    .dataframe tbody tr th:only-of-type {\n",
       "        vertical-align: middle;\n",
       "    }\n",
       "\n",
       "    .dataframe tbody tr th {\n",
       "        vertical-align: top;\n",
       "    }\n",
       "\n",
       "    .dataframe thead th {\n",
       "        text-align: right;\n",
       "    }\n",
       "</style>\n",
       "<table border=\"1\" class=\"dataframe\">\n",
       "  <thead>\n",
       "    <tr style=\"text-align: right;\">\n",
       "      <th></th>\n",
       "      <th>1</th>\n",
       "      <th>2</th>\n",
       "      <th>3</th>\n",
       "    </tr>\n",
       "  </thead>\n",
       "  <tbody>\n",
       "    <tr>\n",
       "      <th>0</th>\n",
       "      <td>EVE-TOT</td>\n",
       "      <td>LIV-LEI</td>\n",
       "      <td>NWC-BUR</td>\n",
       "    </tr>\n",
       "    <tr>\n",
       "      <th>1</th>\n",
       "      <td>ARS-ASV</td>\n",
       "      <td>ASV-NWC</td>\n",
       "      <td>SOU-NOR</td>\n",
       "    </tr>\n",
       "    <tr>\n",
       "      <th>2</th>\n",
       "      <td>LEI-BUR</td>\n",
       "      <td>BRI-MNU</td>\n",
       "      <td>ARS-LIV</td>\n",
       "    </tr>\n",
       "    <tr>\n",
       "      <th>3</th>\n",
       "      <td>BRN-NOR</td>\n",
       "      <td>CHE-CRY</td>\n",
       "      <td>WOL-LEE</td>\n",
       "    </tr>\n",
       "    <tr>\n",
       "      <th>4</th>\n",
       "      <td>NWC-CHE</td>\n",
       "      <td>TOT-WOL</td>\n",
       "      <td>MNU-CHE</td>\n",
       "    </tr>\n",
       "  </tbody>\n",
       "</table>\n",
       "</div>"
      ],
      "text/plain": [
       "         1        2        3\n",
       "0  EVE-TOT  LIV-LEI  NWC-BUR\n",
       "1  ARS-ASV  ASV-NWC  SOU-NOR\n",
       "2  LEI-BUR  BRI-MNU  ARS-LIV\n",
       "3  BRN-NOR  CHE-CRY  WOL-LEE\n",
       "4  NWC-CHE  TOT-WOL  MNU-CHE"
      ]
     },
     "execution_count": 12,
     "metadata": {},
     "output_type": "execute_result"
    }
   ],
   "source": [
    "events_dataframe.head()"
   ]
  },
  {
   "cell_type": "code",
   "execution_count": 13,
   "id": "cd684636-7063-436e-beb0-07686e512794",
   "metadata": {},
   "outputs": [
    {
     "data": {
      "text/html": [
       "<div>\n",
       "<style scoped>\n",
       "    .dataframe tbody tr th:only-of-type {\n",
       "        vertical-align: middle;\n",
       "    }\n",
       "\n",
       "    .dataframe tbody tr th {\n",
       "        vertical-align: top;\n",
       "    }\n",
       "\n",
       "    .dataframe thead th {\n",
       "        text-align: right;\n",
       "    }\n",
       "</style>\n",
       "<table border=\"1\" class=\"dataframe\">\n",
       "  <thead>\n",
       "    <tr style=\"text-align: right;\">\n",
       "      <th></th>\n",
       "      <th>1</th>\n",
       "      <th>2</th>\n",
       "      <th>3</th>\n",
       "    </tr>\n",
       "  </thead>\n",
       "  <tbody>\n",
       "    <tr>\n",
       "      <th>0</th>\n",
       "      <td>49-51</td>\n",
       "      <td>45-63</td>\n",
       "      <td>53-64</td>\n",
       "    </tr>\n",
       "    <tr>\n",
       "      <th>1</th>\n",
       "      <td>48-60</td>\n",
       "      <td>60-53</td>\n",
       "      <td>52-66</td>\n",
       "    </tr>\n",
       "    <tr>\n",
       "      <th>2</th>\n",
       "      <td>63-64</td>\n",
       "      <td>71-50</td>\n",
       "      <td>48-45</td>\n",
       "    </tr>\n",
       "    <tr>\n",
       "      <th>3</th>\n",
       "      <td>972-66</td>\n",
       "      <td>47-55</td>\n",
       "      <td>525-827</td>\n",
       "    </tr>\n",
       "    <tr>\n",
       "      <th>4</th>\n",
       "      <td>53-47</td>\n",
       "      <td>51-525</td>\n",
       "      <td>50-47</td>\n",
       "    </tr>\n",
       "  </tbody>\n",
       "</table>\n",
       "</div>"
      ],
      "text/plain": [
       "        1       2        3\n",
       "0   49-51   45-63    53-64\n",
       "1   48-60   60-53    52-66\n",
       "2   63-64   71-50    48-45\n",
       "3  972-66   47-55  525-827\n",
       "4   53-47  51-525    50-47"
      ]
     },
     "execution_count": 13,
     "metadata": {},
     "output_type": "execute_result"
    }
   ],
   "source": [
    "teams_index_dataframe.head()"
   ]
  },
  {
   "cell_type": "code",
   "execution_count": 14,
   "id": "bcb99db0-f998-475a-a7d9-7fea4f6859f9",
   "metadata": {},
   "outputs": [],
   "source": [
    "def melt_table(dataframe):\n",
    "    dataframe['index'] = 1\n",
    "    values_vars = [str(x) for x in range(1, dataframe.shape[1])]\n",
    "    resulte = pd.melt(dataframe, id_vars=['index'], value_vars=values_vars)\n",
    "    return resulte"
   ]
  },
  {
   "cell_type": "code",
   "execution_count": 15,
   "id": "ff9191f6-7e31-4615-bed1-223eb6b9c9ea",
   "metadata": {},
   "outputs": [],
   "source": [
    "new_events_df = melt_table(events_dataframe).rename(columns={'value': 'events', 'variable': 'weeks'})[['events','weeks']]\n",
    "new_score_df = melt_table(socore_dataframe).rename(columns={'value': 'score', 'variable': 'weeks'})[['score','weeks']]\n",
    "teams_index_df = melt_table(teams_index_dataframe).rename(columns={'value': 'teams_index', 'variable': 'weeks'})[['teams_index','weeks']]"
   ]
  },
  {
   "cell_type": "code",
   "execution_count": 16,
   "id": "9b0ffb60-c5e4-4521-848c-7b4a860037f4",
   "metadata": {},
   "outputs": [
    {
     "data": {
      "text/html": [
       "<div>\n",
       "<style scoped>\n",
       "    .dataframe tbody tr th:only-of-type {\n",
       "        vertical-align: middle;\n",
       "    }\n",
       "\n",
       "    .dataframe tbody tr th {\n",
       "        vertical-align: top;\n",
       "    }\n",
       "\n",
       "    .dataframe thead th {\n",
       "        text-align: right;\n",
       "    }\n",
       "</style>\n",
       "<table border=\"1\" class=\"dataframe\">\n",
       "  <thead>\n",
       "    <tr style=\"text-align: right;\">\n",
       "      <th></th>\n",
       "      <th>events</th>\n",
       "      <th>weeks</th>\n",
       "    </tr>\n",
       "  </thead>\n",
       "  <tbody>\n",
       "    <tr>\n",
       "      <th>0</th>\n",
       "      <td>EVE-TOT</td>\n",
       "      <td>1</td>\n",
       "    </tr>\n",
       "    <tr>\n",
       "      <th>1</th>\n",
       "      <td>ARS-ASV</td>\n",
       "      <td>1</td>\n",
       "    </tr>\n",
       "    <tr>\n",
       "      <th>2</th>\n",
       "      <td>LEI-BUR</td>\n",
       "      <td>1</td>\n",
       "    </tr>\n",
       "    <tr>\n",
       "      <th>3</th>\n",
       "      <td>BRN-NOR</td>\n",
       "      <td>1</td>\n",
       "    </tr>\n",
       "    <tr>\n",
       "      <th>4</th>\n",
       "      <td>NWC-CHE</td>\n",
       "      <td>1</td>\n",
       "    </tr>\n",
       "  </tbody>\n",
       "</table>\n",
       "</div>"
      ],
      "text/plain": [
       "    events weeks\n",
       "0  EVE-TOT     1\n",
       "1  ARS-ASV     1\n",
       "2  LEI-BUR     1\n",
       "3  BRN-NOR     1\n",
       "4  NWC-CHE     1"
      ]
     },
     "execution_count": 16,
     "metadata": {},
     "output_type": "execute_result"
    }
   ],
   "source": [
    "new_events_df.head()"
   ]
  },
  {
   "cell_type": "code",
   "execution_count": 17,
   "id": "ed36dc58-b175-47e6-a261-390ba54e05ca",
   "metadata": {},
   "outputs": [
    {
     "data": {
      "text/html": [
       "<div>\n",
       "<style scoped>\n",
       "    .dataframe tbody tr th:only-of-type {\n",
       "        vertical-align: middle;\n",
       "    }\n",
       "\n",
       "    .dataframe tbody tr th {\n",
       "        vertical-align: top;\n",
       "    }\n",
       "\n",
       "    .dataframe thead th {\n",
       "        text-align: right;\n",
       "    }\n",
       "</style>\n",
       "<table border=\"1\" class=\"dataframe\">\n",
       "  <thead>\n",
       "    <tr style=\"text-align: right;\">\n",
       "      <th></th>\n",
       "      <th>score</th>\n",
       "      <th>weeks</th>\n",
       "    </tr>\n",
       "  </thead>\n",
       "  <tbody>\n",
       "    <tr>\n",
       "      <th>0</th>\n",
       "      <td>Away</td>\n",
       "      <td>1</td>\n",
       "    </tr>\n",
       "    <tr>\n",
       "      <th>1</th>\n",
       "      <td>Away</td>\n",
       "      <td>1</td>\n",
       "    </tr>\n",
       "    <tr>\n",
       "      <th>2</th>\n",
       "      <td>Home</td>\n",
       "      <td>1</td>\n",
       "    </tr>\n",
       "    <tr>\n",
       "      <th>3</th>\n",
       "      <td>Draw</td>\n",
       "      <td>1</td>\n",
       "    </tr>\n",
       "    <tr>\n",
       "      <th>4</th>\n",
       "      <td>Away</td>\n",
       "      <td>1</td>\n",
       "    </tr>\n",
       "  </tbody>\n",
       "</table>\n",
       "</div>"
      ],
      "text/plain": [
       "  score weeks\n",
       "0  Away     1\n",
       "1  Away     1\n",
       "2  Home     1\n",
       "3  Draw     1\n",
       "4  Away     1"
      ]
     },
     "execution_count": 17,
     "metadata": {},
     "output_type": "execute_result"
    }
   ],
   "source": [
    "new_score_df.head()"
   ]
  },
  {
   "cell_type": "code",
   "execution_count": 18,
   "id": "c393d662-9c7c-4a95-9784-30665f90b82c",
   "metadata": {},
   "outputs": [
    {
     "data": {
      "text/html": [
       "<div>\n",
       "<style scoped>\n",
       "    .dataframe tbody tr th:only-of-type {\n",
       "        vertical-align: middle;\n",
       "    }\n",
       "\n",
       "    .dataframe tbody tr th {\n",
       "        vertical-align: top;\n",
       "    }\n",
       "\n",
       "    .dataframe thead th {\n",
       "        text-align: right;\n",
       "    }\n",
       "</style>\n",
       "<table border=\"1\" class=\"dataframe\">\n",
       "  <thead>\n",
       "    <tr style=\"text-align: right;\">\n",
       "      <th></th>\n",
       "      <th>teams_index</th>\n",
       "      <th>weeks</th>\n",
       "    </tr>\n",
       "  </thead>\n",
       "  <tbody>\n",
       "    <tr>\n",
       "      <th>0</th>\n",
       "      <td>49-51</td>\n",
       "      <td>1</td>\n",
       "    </tr>\n",
       "    <tr>\n",
       "      <th>1</th>\n",
       "      <td>48-60</td>\n",
       "      <td>1</td>\n",
       "    </tr>\n",
       "    <tr>\n",
       "      <th>2</th>\n",
       "      <td>63-64</td>\n",
       "      <td>1</td>\n",
       "    </tr>\n",
       "    <tr>\n",
       "      <th>3</th>\n",
       "      <td>972-66</td>\n",
       "      <td>1</td>\n",
       "    </tr>\n",
       "    <tr>\n",
       "      <th>4</th>\n",
       "      <td>53-47</td>\n",
       "      <td>1</td>\n",
       "    </tr>\n",
       "  </tbody>\n",
       "</table>\n",
       "</div>"
      ],
      "text/plain": [
       "  teams_index weeks\n",
       "0       49-51     1\n",
       "1       48-60     1\n",
       "2       63-64     1\n",
       "3      972-66     1\n",
       "4       53-47     1"
      ]
     },
     "execution_count": 18,
     "metadata": {},
     "output_type": "execute_result"
    }
   ],
   "source": [
    "teams_index_df.head()"
   ]
  },
  {
   "cell_type": "code",
   "execution_count": 19,
   "id": "08d28010-5767-45b0-9d25-ec38bb74cd24",
   "metadata": {},
   "outputs": [],
   "source": [
    "events_score_df = pd.concat([new_events_df, new_score_df, teams_index_df], axis=1, join=\"inner\").iloc[:, np.r_[0:2, 2, 4]] # [['events', 'score', 'teams_index']]"
   ]
  },
  {
   "cell_type": "code",
   "execution_count": 20,
   "id": "c12a2b54-476a-4467-971d-fc5c30443ba3",
   "metadata": {},
   "outputs": [
    {
     "data": {
      "text/html": [
       "<div>\n",
       "<style scoped>\n",
       "    .dataframe tbody tr th:only-of-type {\n",
       "        vertical-align: middle;\n",
       "    }\n",
       "\n",
       "    .dataframe tbody tr th {\n",
       "        vertical-align: top;\n",
       "    }\n",
       "\n",
       "    .dataframe thead th {\n",
       "        text-align: right;\n",
       "    }\n",
       "</style>\n",
       "<table border=\"1\" class=\"dataframe\">\n",
       "  <thead>\n",
       "    <tr style=\"text-align: right;\">\n",
       "      <th></th>\n",
       "      <th>events</th>\n",
       "      <th>weeks</th>\n",
       "      <th>score</th>\n",
       "      <th>teams_index</th>\n",
       "    </tr>\n",
       "  </thead>\n",
       "  <tbody>\n",
       "    <tr>\n",
       "      <th>0</th>\n",
       "      <td>EVE-TOT</td>\n",
       "      <td>1</td>\n",
       "      <td>Away</td>\n",
       "      <td>49-51</td>\n",
       "    </tr>\n",
       "    <tr>\n",
       "      <th>1</th>\n",
       "      <td>ARS-ASV</td>\n",
       "      <td>1</td>\n",
       "      <td>Away</td>\n",
       "      <td>48-60</td>\n",
       "    </tr>\n",
       "    <tr>\n",
       "      <th>2</th>\n",
       "      <td>LEI-BUR</td>\n",
       "      <td>1</td>\n",
       "      <td>Home</td>\n",
       "      <td>63-64</td>\n",
       "    </tr>\n",
       "    <tr>\n",
       "      <th>3</th>\n",
       "      <td>BRN-NOR</td>\n",
       "      <td>1</td>\n",
       "      <td>Draw</td>\n",
       "      <td>972-66</td>\n",
       "    </tr>\n",
       "    <tr>\n",
       "      <th>4</th>\n",
       "      <td>NWC-CHE</td>\n",
       "      <td>1</td>\n",
       "      <td>Away</td>\n",
       "      <td>53-47</td>\n",
       "    </tr>\n",
       "    <tr>\n",
       "      <th>5</th>\n",
       "      <td>CRY-MNU</td>\n",
       "      <td>1</td>\n",
       "      <td>Away</td>\n",
       "      <td>55-50</td>\n",
       "    </tr>\n",
       "  </tbody>\n",
       "</table>\n",
       "</div>"
      ],
      "text/plain": [
       "    events weeks score teams_index\n",
       "0  EVE-TOT     1  Away       49-51\n",
       "1  ARS-ASV     1  Away       48-60\n",
       "2  LEI-BUR     1  Home       63-64\n",
       "3  BRN-NOR     1  Draw      972-66\n",
       "4  NWC-CHE     1  Away       53-47\n",
       "5  CRY-MNU     1  Away       55-50"
      ]
     },
     "execution_count": 20,
     "metadata": {},
     "output_type": "execute_result"
    }
   ],
   "source": [
    "events_score_df.head(6)"
   ]
  },
  {
   "cell_type": "markdown",
   "id": "85c40b6b-1672-44fa-b6d2-6ea15e64058a",
   "metadata": {},
   "source": [
    "#### Saving Data Into CSV file"
   ]
  },
  {
   "cell_type": "code",
   "execution_count": 21,
   "id": "9b9eb95e-3700-48d3-9a7c-179d49b10737",
   "metadata": {},
   "outputs": [],
   "source": [
    "events_score_df.to_csv('./Prediction_train&test_Data/premier_leage_data.csv', index=False)"
   ]
  },
  {
   "cell_type": "code",
   "execution_count": null,
   "id": "7b53f0dc-bc3e-429b-bd8a-a6cfe11b837b",
   "metadata": {},
   "outputs": [],
   "source": []
  },
  {
   "cell_type": "code",
   "execution_count": null,
   "id": "ccd33735-9214-4d5c-9578-52cec5eb73ed",
   "metadata": {},
   "outputs": [],
   "source": []
  }
 ],
 "metadata": {
  "kernelspec": {
   "display_name": "Python [conda env:root] *",
   "language": "python",
   "name": "conda-root-py"
  },
  "language_info": {
   "codemirror_mode": {
    "name": "ipython",
    "version": 3
   },
   "file_extension": ".py",
   "mimetype": "text/x-python",
   "name": "python",
   "nbconvert_exporter": "python",
   "pygments_lexer": "ipython3",
   "version": "3.8.8"
  }
 },
 "nbformat": 4,
 "nbformat_minor": 5
}
